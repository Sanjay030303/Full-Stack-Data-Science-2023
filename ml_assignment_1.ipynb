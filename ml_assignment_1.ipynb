{
  "nbformat": 4,
  "nbformat_minor": 0,
  "metadata": {
    "colab": {
      "provenance": [],
      "authorship_tag": "ABX9TyOHN09sVuGJAEZHUWWKyz+l",
      "include_colab_link": true
    },
    "kernelspec": {
      "name": "python3",
      "display_name": "Python 3"
    },
    "language_info": {
      "name": "python"
    }
  },
  "cells": [
    {
      "cell_type": "markdown",
      "metadata": {
        "id": "view-in-github",
        "colab_type": "text"
      },
      "source": [
        "<a href=\"https://colab.research.google.com/github/Sanjay030303/Full-Stack-Data-Science-2023/blob/main/ml_assignment_1.ipynb\" target=\"_parent\"><img src=\"https://colab.research.google.com/assets/colab-badge.svg\" alt=\"Open In Colab\"/></a>"
      ]
    },
    {
      "cell_type": "code",
      "execution_count": null,
      "metadata": {
        "id": "oEbbcABmu5Cw"
      },
      "outputs": [],
      "source": []
    },
    {
      "cell_type": "markdown",
      "source": [
        "### 1. What does one mean by the term \"machine learning\"?\n",
        "\n",
        "Machine learning refers to the field of study and practice where computer algorithms are developed to automatically improve their performance on a task through experience. This means that the system learns from data, identifies patterns, and makes decisions with minimal human intervention.\n",
        "\n",
        "### 2. Can you think of 4 distinct types of issues where it shines?\n",
        "\n",
        "1. **Image Recognition**: Identifying objects, faces, or handwriting in images.\n",
        "2. **Natural Language Processing**: Understanding and generating human language, like chatbots or translation.\n",
        "3. **Recommendation Systems**: Suggesting products, movies, or content based on user preferences.\n",
        "4. **Anomaly Detection**: Identifying unusual patterns that do not conform to expected behavior, like fraud detection.\n",
        "\n",
        "### 3. What is a labeled training set, and how does it work?\n",
        "\n",
        "A labeled training set is a dataset that includes input data paired with the correct output. Each example in the set has a label, which is the correct answer the algorithm should produce. The model learns by finding patterns between the inputs and their corresponding labels.\n",
        "\n",
        "### 4. What are the two most important tasks that are supervised?\n",
        "\n",
        "1. **Classification**: Assigning inputs to predefined categories (e.g., spam detection).\n",
        "2. **Regression**: Predicting a continuous value (e.g., house price prediction).\n",
        "\n",
        "### 5. Can you think of four examples of unsupervised tasks?\n",
        "\n",
        "1. **Clustering**: Grouping similar items together (e.g., customer segmentation).\n",
        "2. **Anomaly Detection**: Identifying unusual data points (e.g., fraud detection without labeled data).\n",
        "3. **Dimensionality Reduction**: Reducing the number of variables (e.g., PCA).\n",
        "4. **Association Rule Learning**: Discovering interesting relations between variables (e.g., market basket analysis).\n",
        "\n",
        "### 6. State the machine learning model that would be best to make a robot walk through various unfamiliar terrains?\n",
        "\n",
        "A **Reinforcement Learning** model would be best, where the robot learns to navigate through trial and error, receiving feedback from the environment to improve its movements.\n",
        "\n",
        "### 7. Which algorithm will you use to divide your customers into different groups?\n",
        "\n",
        "A **Clustering algorithm**, such as K-means, would be used to divide customers into different groups based on their behavior or characteristics.\n",
        "\n",
        "### 8. Will you consider the problem of spam detection to be a supervised or unsupervised learning problem?\n",
        "\n",
        "Spam detection is typically a **supervised learning** problem, as it relies on labeled examples of spam and non-spam emails to train the model.\n",
        "\n",
        "### 9. What is the concept of an online learning system?\n",
        "\n",
        "An online learning system updates the model incrementally as new data comes in, rather than in batch. This allows the model to adapt to changes in real-time, making it suitable for applications where data arrives continuously.\n",
        "\n",
        "### 10. What is out-of-core learning, and how does it differ from core learning?\n",
        "\n",
        "**Out-of-core learning** refers to techniques used to train models on datasets that are too large to fit into the computer's main memory. It processes data in small chunks, unlike core learning which assumes the dataset can fit into memory.\n",
        "\n",
        "### 11. What kind of learning algorithm makes predictions using a similarity measure?\n",
        "\n",
        "**Instance-based learning** algorithms, such as K-Nearest Neighbors (KNN), make predictions based on the similarity between new input instances and the training instances.\n",
        "\n",
        "### 12. What’s the difference between a model parameter and a hyperparameter in a learning algorithm?\n",
        "\n",
        "- **Model Parameter**: These are the internal variables of the model that are learned from the training data (e.g., weights in a neural network).\n",
        "- **Hyperparameter**: These are the configuration settings used to tune the learning process (e.g., learning rate, number of layers).\n",
        "\n",
        "### 13. What are the criteria that model-based learning algorithms look for? What is the most popular method they use to achieve success? What method do they use to make predictions?\n",
        "\n",
        "Model-based learning algorithms look for the parameters that minimize the cost function (often through methods like **gradient descent**). They then use the trained model to make predictions on new data by applying the learned parameters.\n",
        "\n",
        "### 14. Can you name four of the most important Machine Learning challenges?\n",
        "\n",
        "1. **Overfitting**: When the model learns the training data too well, including noise.\n",
        "2. **Underfitting**: When the model is too simple to capture the underlying patterns.\n",
        "3. **Data Quality and Quantity**: Ensuring there is enough high-quality data.\n",
        "4. **Bias and Fairness**: Ensuring the model does not make biased decisions.\n",
        "\n",
        "### 15. What happens if the model performs well on the training data but fails to generalize the results to new situations? Can you think of three different options?\n",
        "\n",
        "This indicates **overfitting**. Options to address this:\n",
        "1. **Regularization**: Add constraints to the model to reduce complexity.\n",
        "2. **Cross-Validation**: Use more robust validation techniques to better evaluate the model.\n",
        "3. **Increase Training Data**: Provide more diverse training examples.\n",
        "\n",
        "### 16. What exactly is a test set, and why would you need one?\n",
        "\n",
        "A test set is a separate dataset used to evaluate the performance of the final model. It provides an unbiased evaluation of how the model generalizes to new, unseen data.\n",
        "\n",
        "### 17. What is a validation set's purpose?\n",
        "\n",
        "A validation set is used to tune hyperparameters and make decisions about the model architecture. It helps in assessing the model's performance during the training phase.\n",
        "\n",
        "### 18. What precisely is the train-dev set, when will you need it, how do you put it to use?\n",
        "\n",
        "A **train-dev set** is a subset of the training data used to detect overfitting on the training set. It is particularly useful in cases where the test set cannot be used frequently for validation. It helps in fine-tuning the model before the final evaluation on the test set.\n",
        "\n",
        "### 19. What could go wrong if you use the test set to tune hyperparameters?\n",
        "\n",
        "Using the test set to tune hyperparameters can lead to **data leakage** and overfitting to the test set. This means the model's performance on the test set would not be a reliable indicator of its generalization ability to truly unseen data."
      ],
      "metadata": {
        "id": "nmUV5WIcu50E"
      }
    }
  ]
}