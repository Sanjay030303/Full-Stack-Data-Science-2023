{
  "nbformat": 4,
  "nbformat_minor": 0,
  "metadata": {
    "colab": {
      "provenance": [],
      "authorship_tag": "ABX9TyPmLlaPSd8XppaazUtJrVCv",
      "include_colab_link": true
    },
    "kernelspec": {
      "name": "python3",
      "display_name": "Python 3"
    },
    "language_info": {
      "name": "python"
    }
  },
  "cells": [
    {
      "cell_type": "markdown",
      "metadata": {
        "id": "view-in-github",
        "colab_type": "text"
      },
      "source": [
        "<a href=\"https://colab.research.google.com/github/Sanjay030303/Full-Stack-Data-Science-2023/blob/main/Assignment2.ipynb\" target=\"_parent\"><img src=\"https://colab.research.google.com/assets/colab-badge.svg\" alt=\"Open In Colab\"/></a>"
      ]
    },
    {
      "cell_type": "markdown",
      "source": [],
      "metadata": {
        "id": "BgAPnJh4n3ZO"
      }
    },
    {
      "cell_type": "markdown",
      "source": [
        "Q1. What's the connection between classes and modules?  \n",
        "A1. Classes are often defined within modules. Modules serve as containers for classes, allowing for better organization and reusability of code.\n",
        "\n",
        "Q2. How do you create instances and classes?  \n",
        "A2. Instances of classes are created by calling the class name followed by parentheses, and classes are defined using the `class` keyword followed by a class name and a colon.\n",
        "\n",
        "Q3. Where and how should class attributes be defined?  \n",
        "A3. Class attributes are defined inside the class definition block, typically at the top, and are declared directly within the class body.\n",
        "\n",
        "Q4. Where and how are instance attributes created?  \n",
        "A4. Instance attributes are created within the __init__ method of a class. They are assigned values using the `self` keyword followed by the attribute name within the __init__ method.\n",
        "\n",
        "Q5. What does \"self\" signify in a Python class?  \n",
        "A5. \"self\" refers to the instance of the class itself. It is used to access instance attributes and methods within the class.\n",
        "\n",
        "Q6. How does a Python class handle operator overloading?  \n",
        "A6. Python allows classes to define special methods for operator overloading, such as __add__ for addition, __sub__ for subtraction, etc., which enable custom behavior for operators when applied to class instances.\n",
        "\n",
        "Q7. When should you consider allowing operator overloading for your classes?  \n",
        "A7. Operator overloading is useful when you want to define custom behaviors for operators in your classes, such as adding two instances of a class together or comparing them using equality operators.\n",
        "\n",
        "Q8. What's the most common form of operator overloading?  \n",
        "A8. The most common form of operator overloading is defining the __add__ method to enable addition between instances of a class.\n",
        "\n",
        "Q9. What are the two key concepts to understand in Python OOP code?  \n",
        "A9. The two main concepts to grasp are classes and instances. Classes define the blueprint for objects, while instances are specific occurrences created from those classes. Understanding how classes and instances interact is essential for comprehending Python OOP code."
      ],
      "metadata": {
        "id": "vnTdF_JlnPFm"
      }
    }
  ]
}