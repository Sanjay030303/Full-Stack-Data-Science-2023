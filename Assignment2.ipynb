{
  "nbformat": 4,
  "nbformat_minor": 0,
  "metadata": {
    "colab": {
      "provenance": [],
      "authorship_tag": "ABX9TyN3teKtz5WXyG6eO3qBH0rC",
      "include_colab_link": true
    },
    "kernelspec": {
      "name": "python3",
      "display_name": "Python 3"
    },
    "language_info": {
      "name": "python"
    }
  },
  "cells": [
    {
      "cell_type": "markdown",
      "metadata": {
        "id": "view-in-github",
        "colab_type": "text"
      },
      "source": [
        "<a href=\"https://colab.research.google.com/github/Sanjay030303/Full-Stack-Data-Science-2023/blob/main/Assignment2.ipynb\" target=\"_parent\"><img src=\"https://colab.research.google.com/assets/colab-badge.svg\" alt=\"Open In Colab\"/></a>"
      ]
    },
    {
      "cell_type": "markdown",
      "source": [],
      "metadata": {
        "id": "BgAPnJh4n3ZO"
      }
    },
    {
      "cell_type": "markdown",
      "source": [
        "Q1. What's Python's OOP for?  \n",
        "A1. Python's OOP helps organize code into classes and objects for easier management and reusability.\n",
        "\n",
        "Q2. Where does inheritance search for an attribute?  \n",
        "A2. Inheritance searches for an attribute first in the current class, then in its parent classes.\n",
        "\n",
        "Q3. How do you tell a class object apart from an instance object?  \n",
        "A3. A class object is the blueprint/template for creating instances, while an instance object is a specific occurrence created from that class.\n",
        "\n",
        "Q4. Why is the first argument in a class method special?  \n",
        "A4. The first argument in a class method, conventionally named `self`, refers to the instance object itself and allows methods to access and modify instance attributes.\n",
        "\n",
        "Q5. What's the point of the __init__ method?  \n",
        "A5. The __init__ method initializes instance attributes when an instance of a class is created.\n",
        "\n",
        "Q6. How do you make a class instance?  \n",
        "A6. To create a class instance, you call the class name followed by parentheses, optionally passing any required arguments to the __init__ method.\n",
        "\n",
        "Q7. What's the procedure for creating a class?  \n",
        "A7. To create a class, you use the `class` keyword followed by the class name and a colon, then define its attributes and methods within an indented block.\n",
        "\n",
        "Q8. How do you describe the superclasses of a class?  \n",
        "A8. The superclasses of a class are the parent classes from which it inherits attributes and methods."
      ],
      "metadata": {
        "id": "vnTdF_JlnPFm"
      }
    }
  ]
}