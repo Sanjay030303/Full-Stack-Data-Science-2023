{
  "nbformat": 4,
  "nbformat_minor": 0,
  "metadata": {
    "colab": {
      "provenance": [],
      "authorship_tag": "ABX9TyMTbuvD2v+2cQjWdSx04CJI",
      "include_colab_link": true
    },
    "kernelspec": {
      "name": "python3",
      "display_name": "Python 3"
    },
    "language_info": {
      "name": "python"
    }
  },
  "cells": [
    {
      "cell_type": "markdown",
      "metadata": {
        "id": "view-in-github",
        "colab_type": "text"
      },
      "source": [
        "<a href=\"https://colab.research.google.com/github/Sanjay030303/Full-Stack-Data-Science-2023/blob/main/DL_Assignment_1.ipynb\" target=\"_parent\"><img src=\"https://colab.research.google.com/assets/colab-badge.svg\" alt=\"Open In Colab\"/></a>"
      ]
    },
    {
      "cell_type": "code",
      "execution_count": null,
      "metadata": {
        "id": "NLJolXkONUUX"
      },
      "outputs": [],
      "source": []
    },
    {
      "cell_type": "markdown",
      "source": [
        "\n",
        "\n",
        "1. **What is the function of a summation junction of a neuron? What is threshold activation function?**\n",
        "   - The summation junction adds up signals from other neurons or inputs.\n",
        "   - The threshold function decides if the neuron should send a signal based on whether the added signals meet a certain level.\n",
        "\n",
        "2. **What is a step function? What is the difference of step function with threshold function?**\n",
        "   - A step function gives a clear output (like 1 or 0) depending on whether the input is above or below a set point.\n",
        "   - The threshold function in neurons is similar but can give more varied outputs, not just 1 or 0.\n",
        "\n",
        "3. **Explain the McCulloch–Pitts model of neuron.**\n",
        "   - The McCulloch–Pitts model is a simple idea of how neurons work, using basic math to decide when to send signals based on input strength and a threshold.\n",
        "\n",
        "4. **Explain the ADALINE network model.**\n",
        "   - ADALINE is a type of neural network that calculates outputs by multiplying inputs by weights, then using those to adjust its responses. It's like a simpler version of today's networks.\n",
        "\n",
        "5. **What is the constraint of a simple perceptron? Why it may fail with a real-world dataset?**\n",
        "   - A simple perceptron can only learn things that are straight and clear, like yes/no questions. It might not work on messy real-world data that doesn't fit into neat categories.\n",
        "\n",
        "6. **What is a linearly inseparable problem? What is the role of the hidden layer?**\n",
        "   - A linearly inseparable problem is when data can't be split up easily with a straight line or simple rule.\n",
        "   - The hidden layer in a network helps solve this by adding more layers to think about data in more complex ways.\n",
        "\n",
        "7. **Explain the XOR problem in the case of a simple perceptron.**\n",
        "   - The XOR problem is when a simple neuron can't learn a rule for two things that are true or false at the same time (like \"both\" or \"neither\"). It needs more layers to figure this out.\n",
        "\n",
        "8. **Design a multi-layer perceptron to implement A XOR B.**\n",
        "   - To solve A XOR B, you need a network with more than one layer. It can learn to handle situations where A and B are both true or both false, not just one or the other.\n",
        "\n",
        "9. **Explain the single-layer feed-forward architecture of ANN.**\n",
        "   - A single-layer feed-forward network is basic, with just an input and output. It's like a straight line from start to finish, good for simple problems.\n",
        "\n",
        "10. **Explain the competitive network architecture of ANN.**\n",
        "    - Competitive networks, like the Kohonen Self-Organizing Map (SOM), are good for finding patterns and groups in data. Neurons work together to find what's similar and different.\n",
        "\n",
        "11. **Consider a multi-layer feed-forward neural network. Enumerate and explain steps in the backpropagation algorithm used to train the network.**\n",
        "    - Backpropagation is how a network learns from its mistakes:\n",
        "      1. **Forward Pass:** See what the network thinks based on the data.\n",
        "      2. **Calculate Error:** Figure out how wrong it was.\n",
        "      3. **Backward Pass:** Go back through the network to see why it was wrong.\n",
        "      4. **Update Weights:** Change how strong each connection is to fix the mistakes.\n",
        "\n",
        "12. **What are the advantages and disadvantages of neural networks?**\n",
        "    - **Advantages:** They can learn complex things, adjust to new information, and work well with messy data.\n",
        "    - **Disadvantages:** They need lots of data and time to work, can sometimes learn too much from small things, and can be hard to understand.\n",
        "\n",
        "13. **Write short notes on any two of the following:**\n",
        "    - **Biological neuron:** It's like a tiny computer in our brains, passing messages and making decisions based on what it hears and feels.\n",
        "    - **ReLU function:** It's a type of math function in networks, helping them learn in big steps and work faster.\n",
        "    - **Single-layer feed-forward ANN:** It's a basic network, good for simple things but not for complex problems.\n",
        "    - **Gradient descent:** It's how networks fix mistakes, trying to find the best way to learn from what they got wrong.\n",
        "    - **Recurrent networks:** These networks are good for things that change over time, like predicting what's next based on what happened before."
      ],
      "metadata": {
        "id": "dHhfdItUNykm"
      }
    }
  ]
}