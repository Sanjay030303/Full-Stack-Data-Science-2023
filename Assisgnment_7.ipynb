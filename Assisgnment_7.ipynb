{
  "nbformat": 4,
  "nbformat_minor": 0,
  "metadata": {
    "colab": {
      "provenance": [],
      "authorship_tag": "ABX9TyN28KISXxXQGDIqJskxzTcf",
      "include_colab_link": true
    },
    "kernelspec": {
      "name": "python3",
      "display_name": "Python 3"
    },
    "language_info": {
      "name": "python"
    }
  },
  "cells": [
    {
      "cell_type": "markdown",
      "metadata": {
        "id": "view-in-github",
        "colab_type": "text"
      },
      "source": [
        "<a href=\"https://colab.research.google.com/github/Sanjay030303/Full-Stack-Data-Science-2023/blob/main/Assisgnment_7.ipynb\" target=\"_parent\"><img src=\"https://colab.research.google.com/assets/colab-badge.svg\" alt=\"Open In Colab\"/></a>"
      ]
    },
    {
      "cell_type": "markdown",
      "source": [
        "1. What is the name of the feature responsible for generating Regex objects?\n",
        "   - The feature responsible for generating Regex objects is the re module in Python, which provides support for regular expressions.\n",
        "\n",
        "2. Why do raw strings often appear in Regex objects?\n",
        "   - Raw strings (e.g., r'some_pattern') are often used with Regex objects to prevent backslashes from being interpreted as escape characters. This is because regular expressions often contain backslashes, and using raw strings ensures that the backslashes are treated as literal characters.\n",
        "\n",
        "3. What is the return value of the search() method?\n",
        "   - The search() method in Python's re module returns a match object if it finds a match, or None if no match is found.\n",
        "\n",
        "4. From a Match object, how do you get the actual strings that match the pattern?\n",
        "   - You can use the .group() method on a Match object to get the actual strings that match the pattern. The default is .group(0) for the entire match, and you can specify different groups using .group(1), .group(2), and so on.\n",
        "\n",
        "5. In the regex created from r'(\\d\\d\\d)-(\\d\\d\\d-\\d\\d\\d\\d)', what does group zero cover? Group 2? Group 1?\n",
        "   - Group 0 covers the entire match.\n",
        "   - Group 1 covers the first set of three digits within parentheses.\n",
        "   - Group 2 covers the second set of three digits, followed by a hyphen, and another four digits within parentheses.\n",
        "\n",
        "6. In standard expression syntax, parentheses and intervals have distinct meanings. How can you tell a regex that you want it to fit real parentheses and periods?\n",
        "   - To match literal parentheses and periods, you can use the backslash character \\ before them. For example, to match a literal parenthesis, use \\(, and to match a literal period, use \\..\n",
        "\n",
        "7. The findall() method returns a string list or a list of string tuples. What causes it to return one of the two options?\n",
        "   - The findall() method returns a list of string tuples when the regular expression contains groups (defined by parentheses). If there are groups in the pattern, it returns a list of tuples where each tuple corresponds to a match and contains the groups. If there are no groups, it returns a list of strings.\n",
        "\n",
        "8. In standard expressions, what does the | character mean?\n",
        "   - In regular expressions, the | character functions as an OR operator. It allows you to specify alternatives, so it matches the pattern on the left or the pattern on the right.\n",
        "\n",
        "9. In regular expressions, what does the + character stand for?\n",
        "   - In regular expressions, the + character matches one or more occurrences of the preceding character or group. It indicates that the character or group must appear at least once.\n",
        "\n",
        "10. In regular expressions, what is the difference between + and * characters?\n",
        "    - The + character matches one or more occurrences of the preceding character or group.\n",
        "    - The * character matches zero or more occurrences of the preceding character or group. It can match an empty string.\n",
        "\n",
        "11. What is the difference between {4} and {4,5} in regular expression?\n",
        "    - {4} specifies that the preceding character or group must appear exactly 4 times.\n",
        "    - {4,5} specifies that the preceding character or group must appear between 4 and 5 times, inclusive.\n",
        "\n",
        "12. What do the \\d, \\w, and \\s shorthand character classes signify in regular expressions?\n",
        "    - \\d matches any digit (0-9).\n",
        "    - \\w matches any word character (alphanumeric characters plus underscore).\n",
        "    - \\s matches any whitespace character (spaces, tabs, newlines, etc.).\n",
        "\n",
        "13. What do \\D, \\W, and \\S shorthand character classes signify in regular expressions?\n",
        "    - \\D matches any character that is not a digit.\n",
        "    - \\W matches any character that is not a word character.\n",
        "    - \\S matches any character that is not a whitespace character.\n",
        "\n",
        "14. What is the difference between .*? and .*?\n",
        "    - .* matches any character (except for a newline) zero or more times, and it is greedy, meaning it matches as much as possible.\n",
        "    - .*? matches any character (except for a newline) zero or more times, but it is non-greedy, meaning it matches as little as possible.\n",
        "\n",
        "15. What is the syntax for matching both numbers and lowercase letters with a character class?\n",
        "    - You can use [0-9a-z] to match both numbers (0-9) and lowercase letters (a-z).\n",
        "\n",
        "16. What is the procedure for making a regular expression in regex case insensitive?\n",
        "    - To make a regular expression case insensitive, you can use the re.IGNORECASE or re.I flag as the second argument in re.compile() or use (?i) within the regular expression pattern.\n",
        "\n",
        "17. What does the . character normally match? What does it match if re.DOTALL is passed as the 2nd argument in re.compile()?\n",
        "    - The . character in a regular expression normally matches any character except for a newline (\\n).\n",
        "    - If re.DOTALL is passed as the second argument in re.compile(), the . character will match any character, including newlines.\n",
        "\n",
        "18. If numReg = re.compile(r'\\d+'), what will numReg.sub('X', '11 drummers, 10 pipers, five rings, 4 hen') return?\n",
        "    - numReg.sub('X', '11 drummers, 10 pipers, five rings, 4 hen') will return the string with all numeric sequences replaced by 'X': 'X drummers, X pipers, five rings, X hen'.\n",
        "\n",
        "19. What does passing re.VERBOSE as the 2nd argument to re.compile() allow you to do?\n",
        "    - Passing re.VERBOSE as the second argument to re.compile() allows you to write more readable and well-documented regular expressions by ignoring whitespace and allowing you to include comments within the pattern.\n",
        "\n",
        "20. How would you write a regex that matches a number with commas for every three digits? It must match the given examples but not the excluded ones.\n",
        "    - You can use the following regex to match numbers with commas for every three digits: r'\\d{1,3}(,\\d{3})*'. This regex matches numbers like '42', '1,234', '6,368,745' but not '12,34,567' or '1234'.\n",
        "\n",
        "21. How would you write a regex that matches the full name of someone whose last name is Watanabe? It must match the given examples but not the excluded ones.\n",
        "    - You can use the following regex to match full names with the last name 'Watanabe': r'[A-Z][a-zA-Z]*\\sWatanabe'. This regex matches 'Haruto Watanabe', 'Alice Watanabe', 'RoboCop Watanabe' but not 'haruto Watanabe', 'Mr. Watanabe',\n",
        "\n",
        " 'Watanabe', or 'Haruto watanabe'.\n",
        "\n",
        "22. How would you write a regex that matches a sentence where the first word is either Alice, Bob, or Carol; the second word is either eats, pets, or throws; the third word is apples, cats, or baseballs; and the sentence ends with a period? This regex should be case-insensitive. It must match the given examples but not the excluded ones.\n",
        "    - You can use the following regex to match such sentences: r'(Alice|Bob|Carol)\\s(eats|pets|throws)\\s(apples|cats|baseballs)\\.'. This regex is case-insensitive and matches sentences like 'Alice eats apples.', 'BOB PETS CATS.', but not 'RoboCop eats apples.' or 'ALICE THROWS FOOTBALLS.'."
      ],
      "metadata": {
        "id": "ZD9cWWO6EB8H"
      }
    },
    {
      "cell_type": "markdown",
      "source": [],
      "metadata": {
        "id": "pZE38Oo0IvQ5"
      }
    },
    {
      "cell_type": "markdown",
      "source": [],
      "metadata": {
        "id": "6m3VL9sLFmSV"
      }
    },
    {
      "cell_type": "code",
      "source": [],
      "metadata": {
        "id": "4KNSZiNuFTx1"
      },
      "execution_count": null,
      "outputs": []
    }
  ]
}