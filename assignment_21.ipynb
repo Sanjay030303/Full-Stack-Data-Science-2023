{
  "nbformat": 4,
  "nbformat_minor": 0,
  "metadata": {
    "colab": {
      "provenance": [],
      "authorship_tag": "ABX9TyMZCmcVAgbRzP/C1gefU4jR",
      "include_colab_link": true
    },
    "kernelspec": {
      "name": "python3",
      "display_name": "Python 3"
    },
    "language_info": {
      "name": "python"
    }
  },
  "cells": [
    {
      "cell_type": "markdown",
      "metadata": {
        "id": "view-in-github",
        "colab_type": "text"
      },
      "source": [
        "<a href=\"https://colab.research.google.com/github/Sanjay030303/Full-Stack-Data-Science-2023/blob/main/assignment_21.ipynb\" target=\"_parent\"><img src=\"https://colab.research.google.com/assets/colab-badge.svg\" alt=\"Open In Colab\"/></a>"
      ]
    },
    {
      "cell_type": "code",
      "execution_count": null,
      "metadata": {
        "id": "NLJolXkONUUX"
      },
      "outputs": [],
      "source": []
    },
    {
      "cell_type": "markdown",
      "source": [
        "1. Add the current date to the text file today.txt as a string.\n",
        "- Answer: Write today's date into today.txt as a string.\n",
        "\n",
        "2. Read the text file today.txt into the string today_string.\n",
        "- Answer: Read the contents of today.txt into today_string.\n",
        "\n",
        "3. Parse the date from today_string.\n",
        "- Answer: Extract the date from today_string.\n",
        "\n",
        "4. List the files in your current directory.\n",
        "- Answer: Show me the files in this directory.\n",
        "\n",
        "5. Create a list of all of the files in your parent directory (minimum five files should be available).\n",
        "- Answer: List all files in the parent directory, at least five files.\n",
        "\n",
        "6. Use multiprocessing to create three separate processes. Make each one wait a random number of seconds between one and five, print the current time, and then exit.\n",
        "- Answer: Use multiprocessing to run three processes that wait random seconds, print the time, and exit.\n",
        "\n",
        "7. Create a date object of your day of birth.\n",
        "- Answer: Make a date object for the day you were born.\n",
        "\n",
        "8. What day of the week was your day of birth?\n",
        "- Answer: What day of the week was I born?\n",
        "\n",
        "9. When will you be (or when were you) 10,000 days old?\n",
        "- Answer: When will I reach (or did I reach) 10,000 days old?"
      ],
      "metadata": {
        "id": "dHhfdItUNykm"
      }
    }
  ]
}