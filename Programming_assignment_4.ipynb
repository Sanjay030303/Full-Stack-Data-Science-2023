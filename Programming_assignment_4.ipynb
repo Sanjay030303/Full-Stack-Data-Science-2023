{
  "nbformat": 4,
  "nbformat_minor": 0,
  "metadata": {
    "colab": {
      "provenance": [],
      "authorship_tag": "ABX9TyNdHgS8588FmiGT8pr7twCQ",
      "include_colab_link": true
    },
    "kernelspec": {
      "name": "python3",
      "display_name": "Python 3"
    },
    "language_info": {
      "name": "python"
    }
  },
  "cells": [
    {
      "cell_type": "markdown",
      "metadata": {
        "id": "view-in-github",
        "colab_type": "text"
      },
      "source": [
        "<a href=\"https://colab.research.google.com/github/Sanjay030303/Full-Stack-Data-Science-2023/blob/main/Programming_assignment_4.ipynb\" target=\"_parent\"><img src=\"https://colab.research.google.com/assets/colab-badge.svg\" alt=\"Open In Colab\"/></a>"
      ]
    },
    {
      "cell_type": "code",
      "execution_count": null,
      "metadata": {
        "id": "NLJolXkONUUX"
      },
      "outputs": [],
      "source": []
    },
    {
      "cell_type": "markdown",
      "source": [
        "\n",
        "\n",
        "1. **Python Program to Find the Factorial of a Number**\n",
        "\n",
        "```python\n",
        "def factorial(n):\n",
        "    if n == 0 or n == 1:\n",
        "        return 1\n",
        "    else:\n",
        "        return n * factorial(n - 1)\n",
        "\n",
        "num = int(input())\n",
        "print(factorial(num))\n",
        "```\n",
        "\n",
        "2. **Python Program to Display the Multiplication Table**\n",
        "\n",
        "```python\n",
        "num = int(input())\n",
        "for i in range(1, 11):\n",
        "    print(f\"{num} x {i} = {num * i}\")\n",
        "```\n",
        "\n",
        "3. **Python Program to Print the Fibonacci sequence**\n",
        "\n",
        "```python\n",
        "def fibonacci_sequence(n):\n",
        "    fib = []\n",
        "    a, b = 0, 1\n",
        "    for _ in range(n):\n",
        "        fib.append(a)\n",
        "        a, b = b, a + b\n",
        "    return fib\n",
        "\n",
        "terms = int(input())\n",
        "print(fibonacci_sequence(terms))\n",
        "```\n",
        "\n",
        "4. **Python Program to Check Armstrong Number**\n",
        "\n",
        "```python\n",
        "def is_armstrong(num):\n",
        "    num_str = str(num)\n",
        "    num_digits = len(num_str)\n",
        "    sum = 0\n",
        "    for digit in num_str:\n",
        "        sum += int(digit) ** num_digits\n",
        "    return sum == num\n",
        "\n",
        "number = int(input())\n",
        "print(is_armstrong(number))\n",
        "```\n",
        "\n",
        "5. **Python Program to Find Armstrong Numbers in an Interval**\n",
        "\n",
        "```python\n",
        "def find_armstrong_in_interval(start, end):\n",
        "    armstrong_nums = []\n",
        "    for num in range(start, end + 1):\n",
        "        if is_armstrong(num):\n",
        "            armstrong_nums.append(num)\n",
        "    return armstrong_nums\n",
        "\n",
        "start = int(input())\n",
        "end = int(input())\n",
        "print(find_armstrong_in_interval(start, end))\n",
        "```\n",
        "\n",
        "6. **Python Program to Find the Sum of Natural Numbers**\n",
        "\n",
        "```python\n",
        "def sum_of_natural_numbers(n):\n",
        "    return (n * (n + 1)) // 2\n",
        "\n",
        "num = int(input())\n",
        "print(sum_of_natural_numbers(num))\n",
        "```"
      ],
      "metadata": {
        "id": "dHhfdItUNykm"
      }
    }
  ]
}