{
  "nbformat": 4,
  "nbformat_minor": 0,
  "metadata": {
    "colab": {
      "provenance": [],
      "authorship_tag": "ABX9TyPE7rjhR5sCN9sLHp5gfBmb",
      "include_colab_link": true
    },
    "kernelspec": {
      "name": "python3",
      "display_name": "Python 3"
    },
    "language_info": {
      "name": "python"
    }
  },
  "cells": [
    {
      "cell_type": "markdown",
      "metadata": {
        "id": "view-in-github",
        "colab_type": "text"
      },
      "source": [
        "<a href=\"https://colab.research.google.com/github/Sanjay030303/Full-Stack-Data-Science-2023/blob/main/assignment_20.ipynb\" target=\"_parent\"><img src=\"https://colab.research.google.com/assets/colab-badge.svg\" alt=\"Open In Colab\"/></a>"
      ]
    },
    {
      "cell_type": "code",
      "execution_count": null,
      "metadata": {
        "id": "NLJolXkONUUX"
      },
      "outputs": [],
      "source": []
    },
    {
      "cell_type": "markdown",
      "source": [
        "1. Set the variable test1 to the string 'This is a test of the emergency text system,' and save test1 to a file named test.txt.\n",
        "- Answer: Sure! Save 'This is a test of the emergency text system,' to a file named test.txt.\n",
        "\n",
        "2. Read the contents of the file test.txt into the variable test2. Is there a difference between test1 and test2?\n",
        "- Answer: Yes, test1 and test2 will be the same string, 'This is a test of the emergency text system,' if read correctly from test.txt.\n",
        "\n",
        "3. Create a CSV file called books.csv by using these lines:\n",
        "   title,author,year\n",
        "   The Weirdstone of Brisingamen,Alan Garner,1960\n",
        "   Perdido Street Station,China Miéville,2000\n",
        "   Thud!,Terry Pratchett,2005\n",
        "   The Spellman Files,Lisa Lutz,2007\n",
        "   Small Gods,Terry Pratchett,1992\n",
        "- Answer: Create a CSV file named books.csv with titles, authors, and years of books listed.\n",
        "\n",
        "4. Use the sqlite3 module to create a SQLite database called books.db, and a table called books with these fields: title (text), author (text), and year (integer).\n",
        "- Answer: Use sqlite3 to make a new SQLite database named books.db. In it, create a table called books with title, author, and year fields.\n",
        "\n",
        "5. Read books.csv and insert its data into the book table.\n",
        "- Answer: Read the contents of books.csv and add its information into the book table.\n",
        "\n",
        "6. Select and print the title column from the book table in alphabetical order.\n",
        "- Answer: Print the titles from the book table, sorted alphabetically.\n",
        "\n",
        "7. From the book table, select and print all columns in the order of publication.\n",
        "- Answer: Show all columns from the book table, sorted by year of publication.\n",
        "\n",
        "8. Use the sqlalchemy module to connect to the sqlite3 database books.db that you just made in exercise 6.\n",
        "- Answer: Connect to the books.db SQLite database using sqlalchemy.\n",
        "\n",
        "9. Install the Redis server and the Python redis library (pip install redis) on your computer. Create a Redis hash called test with the fields count (1) and name ('Fester Bestertester'). Print all the fields for test.\n",
        "- Answer: Install Redis and the Python redis library. Create a Redis hash named test with count as 1 and name as 'Fester Bestertester'. Display all fields for test.\n",
        "\n",
        "10. Increment the count field of test and print it.\n",
        "- Answer: Increase the count field of test and show its updated value."
      ],
      "metadata": {
        "id": "dHhfdItUNykm"
      }
    }
  ]
}