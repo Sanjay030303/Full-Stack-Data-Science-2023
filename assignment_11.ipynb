{
  "nbformat": 4,
  "nbformat_minor": 0,
  "metadata": {
    "colab": {
      "provenance": [],
      "authorship_tag": "ABX9TyOO8uLwEVCWEwyFNx2g6y1v",
      "include_colab_link": true
    },
    "kernelspec": {
      "name": "python3",
      "display_name": "Python 3"
    },
    "language_info": {
      "name": "python"
    }
  },
  "cells": [
    {
      "cell_type": "markdown",
      "metadata": {
        "id": "view-in-github",
        "colab_type": "text"
      },
      "source": [
        "<a href=\"https://colab.research.google.com/github/Sanjay030303/Full-Stack-Data-Science-2023/blob/main/assignment_11.ipynb\" target=\"_parent\"><img src=\"https://colab.research.google.com/assets/colab-badge.svg\" alt=\"Open In Colab\"/></a>"
      ]
    },
    {
      "cell_type": "code",
      "execution_count": null,
      "metadata": {
        "id": "NLJolXkONUUX"
      },
      "outputs": [],
      "source": []
    },
    {
      "cell_type": "markdown",
      "source": [
        "1. Create an assert statement that throws an AssertionError if the variable spam is a negative integer.\n",
        "   - Assert that spam is greater than or equal to zero with an error message.\n",
        "\n",
        "2. Write an assert statement that triggers an AssertionError if the variables eggs and bacon contain strings that are the same as each other, even if their cases are different.\n",
        "   - Assert that eggs and bacon are not the same when converted to lowercase.\n",
        "\n",
        "3. Create an assert statement that throws an AssertionError every time.\n",
        "   - Always assert false with a message.\n",
        "\n",
        "4. What are the two lines that must be present in your software in order to call logging.debug()?\n",
        "   - Import the logging module and configure logging to show debug messages.\n",
        "\n",
        "5. What are the two lines that your program must have in order to have logging.debug() send a logging message to a file named programLog.txt?\n",
        "   - Import the logging module and configure logging to write to programLog.txt at the debug level.\n",
        "\n",
        "6. What are the five levels of logging?\n",
        "   - The five levels are DEBUG, INFO, WARNING, ERROR, and CRITICAL.\n",
        "\n",
        "7. What line of code would you add to your software to disable all logging messages?\n",
        "   - Set the logging level to CRITICAL to disable all lower-level messages.\n",
        "\n",
        "8. Why is using logging messages better than using print() to display the same message?\n",
        "   - Logging messages can be easily controlled, filtered, and directed to different outputs like files, and they include timestamps and severity levels.\n",
        "\n",
        "9. What are the differences between the Step Over, Step In, and Step Out buttons in the debugger?\n",
        "   - Step Over runs the next line of code but doesn't enter functions. Step In enters functions to debug inside them. Step Out finishes the current function and returns to the caller.\n",
        "\n",
        "10. After you click Continue, when will the debugger stop?\n",
        "    - The debugger will stop when it reaches the next breakpoint or encounters an exception.\n",
        "\n",
        "11. What is the concept of a breakpoint?\n",
        "    - A breakpoint is a marker set by the programmer where the debugger will pause execution, allowing inspection of the program's state."
      ],
      "metadata": {
        "id": "dHhfdItUNykm"
      }
    }
  ]
}