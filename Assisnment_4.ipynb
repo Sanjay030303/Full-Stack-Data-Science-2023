{
  "nbformat": 4,
  "nbformat_minor": 0,
  "metadata": {
    "colab": {
      "provenance": [],
      "authorship_tag": "ABX9TyMFXmLPcZEZ3TLKPYbQwWo2",
      "include_colab_link": true
    },
    "kernelspec": {
      "name": "python3",
      "display_name": "Python 3"
    },
    "language_info": {
      "name": "python"
    }
  },
  "cells": [
    {
      "cell_type": "markdown",
      "metadata": {
        "id": "view-in-github",
        "colab_type": "text"
      },
      "source": [
        "<a href=\"https://colab.research.google.com/github/Sanjay030303/Full-Stack-Data-Science-2023/blob/main/Assisnment_4.ipynb\" target=\"_parent\"><img src=\"https://colab.research.google.com/assets/colab-badge.svg\" alt=\"Open In Colab\"/></a>"
      ]
    },
    {
      "cell_type": "markdown",
      "source": [
        "1. **What exactly is []?**\n",
        "   \"[]\" represents an empty list in Python. It's a data structure that can hold multiple values, and in this case, it contains no elements.\n",
        "\n",
        "2. **In a list of values stored in a variable called spam, how would you assign the value 'hello' as the third value? (Assume [2, 4, 6, 8, 10] are in spam.)**\n",
        "   You can assign 'hello' as the third value in the \"spam\" list by using indexing and assignment. Here's how: spam[2] = 'hello'.\n",
        "\n",
        "3. **What is the value of spam[int(int('3' * 2) / 11)]?**\n",
        "   The value of spam[int(int('3' * 2) / 11)] is equal to spam[3], which corresponds to the fourth element in the list \"spam\" (since Python lists are zero-indexed).\n",
        "\n",
        "4. **What is the value of spam[-1]?**\n",
        "   The value of spam[-1] is the last element in the list \"spam,\" which is 'd'.\n",
        "\n",
        "5. **What is the value of spam[:2]?**\n",
        "   The value of spam[:2] is a list containing the first two elements of \"spam,\" which are ['a', 'b'].\n",
        "\n",
        "6. **What is the value of bacon.index('cat')?**\n",
        "   The value of bacon.index('cat') is the index of the first occurrence of 'cat' in the list \"bacon.\" It is 1.\n",
        "\n",
        "7. **How does bacon.append(99) change the look of the list value in bacon?**\n",
        "   bacon.append(99) adds the value 99 to the end of the \"bacon\" list, so the list becomes [3.14, 'cat', 11, 'cat', True, 99].\n",
        "\n",
        "8. **How does bacon.remove('cat') change the look of the list in bacon?**\n",
        "   bacon.remove('cat') removes the first occurrence of 'cat' in the \"bacon\" list, so the list becomes [3.14, 11, 'cat', True].\n",
        "\n",
        "9. **What are the list concatenation and list replication operators?**\n",
        "   The list concatenation operator is '+', which combines two or more lists into a single list. The list replication operator is '*', which duplicates a list a specified number of times.\n",
        "\n",
        "10. **What is the difference between the list methods append() and insert()?**\n",
        "    - append() adds an element to the end of a list.\n",
        "    - insert() allows you to add an element at a specific index within the list, shifting the existing elements to accommodate the new one.\n",
        "\n",
        "11. **What are the two methods for removing items from a list?**\n",
        "    Two common methods for removing items from a list are remove() for removing a specific value and pop() for removing an item by its index.\n",
        "\n",
        "12. **Describe how list values and string values are identical.**\n",
        "    List values and string values are similar in that they both are sequences of elements. They can be indexed and sliced, and they support common operations like concatenation and replication.\n",
        "\n",
        "13. **What's the difference between tuples and lists?**\n",
        "    Tuples and lists are both ordered collections of items, but the key difference is that lists are mutable (can be modified), while tuples are immutable (cannot be changed after creation).\n",
        "\n",
        "14. **How do you type a tuple value that only contains the integer 42?**\n",
        "    You can create a tuple with a single element by adding a comma after the element: (42,).\n",
        "\n",
        "15. **How do you get a list value's tuple form? How do you get a tuple value's list form?**\n",
        "    You can convert a list to a tuple using the tuple() constructor: tuple(my_list). To convert a tuple to a list, use the list() constructor: list(my_tuple).\n",
        "\n",
        "16. **Variables that \"contain\" list values are not necessarily lists themselves. Instead, what do they contain?**\n",
        "    Variables that \"contain\" list values actually contain references or pointers to the list in memory. They don't store the list directly but hold a reference to its location in memory.\n",
        "\n",
        "17. **How do you distinguish between copy.copy() and copy.deepcopy()?**\n",
        "    - copy.copy() creates a shallow copy of a list or object. It duplicates the top-level structure but still shares references to nested objects.\n",
        "    - copy.deepcopy() creates a deep copy of a list or object. It recursively copies all nested objects, creating a completely independent copy with no shared references."
      ],
      "metadata": {
        "id": "ZD9cWWO6EB8H"
      }
    },
    {
      "cell_type": "markdown",
      "source": [],
      "metadata": {
        "id": "6m3VL9sLFmSV"
      }
    },
    {
      "cell_type": "code",
      "source": [],
      "metadata": {
        "id": "4KNSZiNuFTx1"
      },
      "execution_count": null,
      "outputs": []
    }
  ]
}