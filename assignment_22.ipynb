{
  "nbformat": 4,
  "nbformat_minor": 0,
  "metadata": {
    "colab": {
      "provenance": [],
      "authorship_tag": "ABX9TyN/gvkVQP0uLk7E+wIULZ1E",
      "include_colab_link": true
    },
    "kernelspec": {
      "name": "python3",
      "display_name": "Python 3"
    },
    "language_info": {
      "name": "python"
    }
  },
  "cells": [
    {
      "cell_type": "markdown",
      "metadata": {
        "id": "view-in-github",
        "colab_type": "text"
      },
      "source": [
        "<a href=\"https://colab.research.google.com/github/Sanjay030303/Full-Stack-Data-Science-2023/blob/main/assignment_22.ipynb\" target=\"_parent\"><img src=\"https://colab.research.google.com/assets/colab-badge.svg\" alt=\"Open In Colab\"/></a>"
      ]
    },
    {
      "cell_type": "code",
      "execution_count": null,
      "metadata": {
        "id": "NLJolXkONUUX"
      },
      "outputs": [],
      "source": []
    },
    {
      "cell_type": "markdown",
      "source": [
        "\n",
        "\n",
        "1. **Question 1:**\n",
        "   ```python\n",
        "   >>> X = 'iNeuron'\n",
        "   >>> def func():\n",
        "   ...     print(X)\n",
        "   >>> func()\n",
        "   ```\n",
        "\n",
        "   **Output and Explanation:**\n",
        "   ```\n",
        "   iNeuron\n",
        "   ```\n",
        "   In this code, `X` is defined outside of the function `func()` and is accessible within the function due to Python's scoping rules. When `func()` is called, it prints the value of `X`, which is 'iNeuron'.\n",
        "\n",
        "2. **Question 2:**\n",
        "   ```python\n",
        "   >>> X = 'iNeuron'\n",
        "   >>> def func():\n",
        "   ...     X = 'NI!'\n",
        "   >>> func()\n",
        "   >>> print(X)\n",
        "   ```\n",
        "\n",
        "   **Output and Explanation:**\n",
        "   ```\n",
        "   iNeuron\n",
        "   ```\n",
        "   Here, `X` inside the function `func()` is a local variable that shadows the global `X`. When `func()` is called, it assigns 'NI!' to its local `X`, leaving the global `X` unchanged. Therefore, when `print(X)` is called outside of `func()`, it prints the global value of `X`, which is 'iNeuron'.\n",
        "\n",
        "3. **Question 3:**\n",
        "   ```python\n",
        "   >>> X = 'iNeuron'\n",
        "   >>> def func():\n",
        "   ...     X = 'NI'\n",
        "   ...     print(X)\n",
        "   >>> func()\n",
        "   >>> print(X)\n",
        "   ```\n",
        "\n",
        "   **Output and Explanation:**\n",
        "   ```\n",
        "   NI\n",
        "   iNeuron\n",
        "   ```\n",
        "   In this case, `X` inside `func()` is a local variable. When `func()` is called, it prints the local `X`, which is 'NI'. After `func()` finishes, when `print(X)` is called outside of `func()`, it prints the global `X`, which remains 'iNeuron'.\n",
        "\n",
        "4. **Question 4:**\n",
        "   ```python\n",
        "   >>> X = 'iNeuron'\n",
        "   >>> def func():\n",
        "   ...     global X\n",
        "   ...     X = 'NI'\n",
        "   >>> func()\n",
        "   >>> print(X)\n",
        "   ```\n",
        "\n",
        "   **Output and Explanation:**\n",
        "   ```\n",
        "   NI\n",
        "   ```\n",
        "   Here, `global X` inside `func()` explicitly declares that `X` refers to the global variable `X`. When `func()` is called, it assigns 'NI' to the global `X`. Therefore, when `print(X)` is executed afterward, it prints the modified global value of `X`, which is 'NI'.\n",
        "\n",
        "5. **Question 5:**\n",
        "   ```python\n",
        "   >>> X = 'iNeuron'\n",
        "   >>> def func():\n",
        "   ...     X = 'NI'\n",
        "   ...     def nested():\n",
        "   ...         print(X)\n",
        "   ...     nested()\n",
        "   >>> func()\n",
        "   >>> X\n",
        "   ```\n",
        "\n",
        "   **Output and Explanation:**\n",
        "   ```\n",
        "   NI\n",
        "   'iNeuron'\n",
        "   ```\n",
        "   Inside `nested()`, Python looks for `X` in its enclosing scopes. Since `X` is not defined locally in `nested()`, it uses the `X` defined in `func()`'s scope. Therefore, `nested()` prints 'NI', which is the value of `X` from `func()`. After `func()` completes, `X` outside of `func()` remains 'iNeuron'.\n",
        "\n",
        "6. **Question 6:**\n",
        "   ```python\n",
        "   >>> def func():\n",
        "   ...     X = 'NI'\n",
        "   ...     def nested():\n",
        "   ...         nonlocal X\n",
        "   ...         X = 'Spam'\n",
        "   ...     nested()\n",
        "   ...     print(X)\n",
        "   >>> func()\n",
        "   ```\n",
        "\n",
        "   **Output and Explanation:**\n",
        "   ```\n",
        "   Spam\n",
        "   ```\n",
        "   Here, `nonlocal X` in `nested()` indicates that `X` refers to the `X` defined in `func()`'s scope, not the global scope. When `nested()` is called, it assigns 'Spam' to `X`. Therefore, when `func()` prints `X` after calling `nested()`, it prints 'Spam', reflecting the change made by `nested()`.\n"
      ],
      "metadata": {
        "id": "dHhfdItUNykm"
      }
    }
  ]
}