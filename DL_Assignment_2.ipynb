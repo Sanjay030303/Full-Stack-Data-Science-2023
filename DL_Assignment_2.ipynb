{
  "nbformat": 4,
  "nbformat_minor": 0,
  "metadata": {
    "colab": {
      "provenance": [],
      "authorship_tag": "ABX9TyOi1LNXowMOoVhk/D2bKiKQ",
      "include_colab_link": true
    },
    "kernelspec": {
      "name": "python3",
      "display_name": "Python 3"
    },
    "language_info": {
      "name": "python"
    }
  },
  "cells": [
    {
      "cell_type": "markdown",
      "metadata": {
        "id": "view-in-github",
        "colab_type": "text"
      },
      "source": [
        "<a href=\"https://colab.research.google.com/github/Sanjay030303/Full-Stack-Data-Science-2023/blob/main/DL_Assignment_2.ipynb\" target=\"_parent\"><img src=\"https://colab.research.google.com/assets/colab-badge.svg\" alt=\"Open In Colab\"/></a>"
      ]
    },
    {
      "cell_type": "code",
      "execution_count": null,
      "metadata": {
        "id": "NLJolXkONUUX"
      },
      "outputs": [],
      "source": []
    },
    {
      "cell_type": "markdown",
      "source": [
        "Certainly! Here are the answers in simple language:\n",
        "\n",
        "1. **Describe the structure of an artificial neuron. How is it similar to a biological neuron? What are its main components?**\n",
        "   - An artificial neuron has inputs (like the dendrites), weights (like synaptic strengths), a summation function (like the cell body), an activation function (like the neuron firing decision), and an output (like the axon).\n",
        "   - Similar to biological neurons, it receives inputs, processes them with weights, and outputs a signal based on an activation threshold.\n",
        "\n",
        "2. **What are the different types of activation functions popularly used? Explain each of them.**\n",
        "   - **Step function:** Outputs a specific value (like 1 or 0) based on whether input crosses a threshold.\n",
        "   - **Sigmoid function:** Outputs values between 0 and 1, good for smooth transitions.\n",
        "   - **ReLU (Rectified Linear Unit):** Outputs input directly if positive, or 0 if negative, speeds up learning.\n",
        "\n",
        "3. **Explain, in details, Rosenblatt’s perceptron model. How can a set of data be classified using a simple perceptron?**\n",
        "   - Rosenblatt's perceptron model learns to classify data into two categories using weights and bias.\n",
        "   - Using weights (-1, 2, 1), a simple perceptron can classify points based on their position relative to a line (3, 4), (5, 2), (1, -3), (-8, -3), (-3, 0).\n",
        "\n",
        "4. **Explain the basic structure of a multi-layer perceptron. Explain how it can solve the XOR problem.**\n",
        "   - A multi-layer perceptron has input, hidden, and output layers. Hidden layers introduce non-linearity.\n",
        "   - XOR problem is solved by hidden layers creating a non-linear boundary between classes, not possible with a simple perceptron.\n",
        "\n",
        "5. **What is artificial neural network (ANN)? Explain some of the salient highlights in the different architectural options for ANN.**\n",
        "   - ANN is a network inspired by the human brain, with interconnected neurons.\n",
        "   - Options include single-layer for simple tasks, multi-layer for complex problems, and recurrent networks for time-dependent data.\n",
        "\n",
        "6. **Explain the learning process of an ANN. Explain, with example, the challenge in assigning synaptic weights for the interconnection between neurons? How can this challenge be addressed?**\n",
        "   - ANN learns by adjusting weights based on errors.\n",
        "   - Challenge: Choosing weights can be tricky as wrong weights can lead to bad learning.\n",
        "   - Solution: Use algorithms like backpropagation to adjust weights based on errors.\n",
        "\n",
        "7. **Explain, in details, the backpropagation algorithm. What are the limitations of this algorithm?**\n",
        "   - Backpropagation adjusts weights by propagating errors backward through the network.\n",
        "   - Limitations: Slower on large networks, prone to local minima, and needs lots of data.\n",
        "\n",
        "8. **Describe, in details, the process of adjusting the interconnection weights in a multi-layer neural network.**\n",
        "   - Adjust weights using gradients from backpropagation, updating weights to reduce errors layer by layer.\n",
        "\n",
        "9. **What are the steps in the backpropagation algorithm? Why a multi-layer neural network is required?**\n",
        "   - Steps: Forward pass to predict, calculate error, backward pass to adjust weights.\n",
        "   - Multi-layer networks handle complex data by learning non-linear relationships.\n",
        "\n",
        "10. **Write short notes on:**\n",
        "    - **Artificial neuron:** Basic unit in a neural network, like a brain cell, processing inputs to produce an output.\n",
        "    - **Multi-layer perceptron:** Neural network with layers beyond input and output, learning complex patterns.\n",
        "    - **Deep learning:** Advanced neural networks with many layers, good for big data and complex tasks.\n",
        "    - **Learning rate:** Speed of adjusting weights, critical for fast but accurate learning.\n",
        "\n",
        "11. **Write the difference between:**\n",
        "    - **Activation function vs threshold function:** Activation functions output continuous values, while threshold functions output discrete values.\n",
        "    - **Step function vs sigmoid function:** Step function outputs 0 or 1 based on a threshold, sigmoid function outputs values between 0 and 1.\n",
        "    - **Single layer vs multi-layer perceptron:** Single layer handles simple tasks, multi-layer handles complex tasks by learning non-linear patterns."
      ],
      "metadata": {
        "id": "dHhfdItUNykm"
      }
    }
  ]
}