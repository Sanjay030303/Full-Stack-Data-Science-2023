{
  "nbformat": 4,
  "nbformat_minor": 0,
  "metadata": {
    "colab": {
      "provenance": [],
      "authorship_tag": "ABX9TyM6mdNoJ5j0iZ1/ZJHfYex8",
      "include_colab_link": true
    },
    "kernelspec": {
      "name": "python3",
      "display_name": "Python 3"
    },
    "language_info": {
      "name": "python"
    }
  },
  "cells": [
    {
      "cell_type": "markdown",
      "metadata": {
        "id": "view-in-github",
        "colab_type": "text"
      },
      "source": [
        "<a href=\"https://colab.research.google.com/github/Sanjay030303/Full-Stack-Data-Science-2023/blob/main/Assisnment_3.ipynb\" target=\"_parent\"><img src=\"https://colab.research.google.com/assets/colab-badge.svg\" alt=\"Open In Colab\"/></a>"
      ]
    },
    {
      "cell_type": "markdown",
      "source": [
        "Assignment_3\n",
        "\n",
        "1. **Why are functions advantageous to have in your programs?**\n",
        "   Functions are advantageous in programs because they promote code reusability, modularity, and abstraction. They allow you to break down complex tasks into smaller, manageable parts, making code easier to understand and maintain.\n",
        "\n",
        "2. **When does the code in a function run: when it's specified or when it's called?**\n",
        "\n",
        "   The code in a function runs when it's called, not when it's specified. Functions are executed only when you invoke them in your program.\n",
        "\n",
        "3. **What statement creates a function?**\n",
        "\n",
        "   A function is created in Python using the \"def\" statement. For example, \"def my_function():\" defines a function called \"my_function.\"\n",
        "\n",
        "4. **What is the difference between a function and a function call?**\n",
        "\n",
        "   A function is a block of code that performs a specific task, while a function call is the act of invoking or executing that function in your code.\n",
        "\n",
        "5. **How many global scopes are there in a Python program? How many local scopes?**\n",
        "\n",
        "   In Python, there is one global scope per program, and each function call creates its own local scope. So, the number of local scopes depends on how many times the function is called.\n",
        "\n",
        "6. **What happens to variables in a local scope when the function call returns?**\n",
        "\n",
        "   When a function call returns, the local variables within that function go out of scope and are typically destroyed, but their values can be returned to the calling code.\n",
        "\n",
        "7. **What is the concept of a return value? Is it possible to have a return value in an expression?**\n",
        "\n",
        "   A return value is the data a function sends back to the calling code. It represents the result of the function's operation and can be used in expressions. For example, you can assign the return value to a variable or use it directly in calculations.\n",
        "\n",
        "8. **If a function does not have a return statement, what is the return value of a call to that function?**\n",
        "\n",
        "   If a function does not have a return statement, its return value is \"None.\" It implicitly returns None when it reaches the end of the function without an explicit return statement.\n",
        "\n",
        "9. **How do you make a function variable refer to the global variable?**\n",
        "\n",
        "   To make a function variable refer to a global variable, you can use the \"global\" keyword within the function. For example, \"global my_variable\" allows you to modify the global variable \"my_variable\" from within the function.\n",
        "\n",
        "10. **What is the data type of None?**\n",
        "\n",
        "    The data type of \"None\" in Python is \"NoneType.\" It represents the absence of a value or the lack of a return value from a function.\n",
        "\n",
        "11. **What does the sentence import areallyourpetsnamederic do?**\n",
        "\n",
        "    The sentence \"import areallyourpetsnamederic\" is not a standard Python library or module. It would typically raise an ImportError, as Python couldn't find such a module.\n",
        "\n",
        "12. **If you had a bacon() feature in a spam module, what would you call it after importing spam?**\n",
        "\n",
        "    After importing the \"spam\" module, you can call the \"bacon()\" feature by using the syntax \"spam.bacon()\" to access the \"bacon\" function within the \"spam\" module.\n",
        "\n",
        "13. **What can you do to save a program from crashing if it encounters an error?**\n",
        "\n",
        "    To prevent a program from crashing when it encounters an error, you can use exception handling. Wrapping potentially problematic code in a \"try\" block and providing error-handling instructions in an \"except\" block allows you to gracefully handle errors and prevent crashes.\n",
        "\n",
        "14. **What is the purpose of the try clause? What is the purpose of the except clause?**\n",
        "\n",
        "    The \"try\" clause is used to enclose code that might raise an exception. It allows you to monitor for exceptions during the execution of that code. The \"except\" clause is used to define what to do when an exception is raised, such as handling the exception, logging an error, or providing an alternative action."
      ],
      "metadata": {
        "id": "ZD9cWWO6EB8H"
      }
    }
  ]
}