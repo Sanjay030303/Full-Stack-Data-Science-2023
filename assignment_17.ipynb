{
  "nbformat": 4,
  "nbformat_minor": 0,
  "metadata": {
    "colab": {
      "provenance": [],
      "authorship_tag": "ABX9TyMAY0CkrFRZLr5MTOakvfw7",
      "include_colab_link": true
    },
    "kernelspec": {
      "name": "python3",
      "display_name": "Python 3"
    },
    "language_info": {
      "name": "python"
    }
  },
  "cells": [
    {
      "cell_type": "markdown",
      "metadata": {
        "id": "view-in-github",
        "colab_type": "text"
      },
      "source": [
        "<a href=\"https://colab.research.google.com/github/Sanjay030303/Full-Stack-Data-Science-2023/blob/main/assignment_17.ipynb\" target=\"_parent\"><img src=\"https://colab.research.google.com/assets/colab-badge.svg\" alt=\"Open In Colab\"/></a>"
      ]
    },
    {
      "cell_type": "code",
      "execution_count": null,
      "metadata": {
        "id": "NLJolXkONUUX"
      },
      "outputs": [],
      "source": []
    },
    {
      "cell_type": "markdown",
      "source": [
        "1. **Assign the value 7 to the variable guess_me. Then, write the conditional tests (if, else, and elif) to print the string 'too low' if guess_me is less than 7, 'too high' if greater than 7, and 'just right' if equal to 7.**\n",
        "   ```python\n",
        "   guess_me = 7\n",
        "   if guess_me < 7:\n",
        "       print('too low')\n",
        "   elif guess_me > 7:\n",
        "       print('too high')\n",
        "   else:\n",
        "       print('just right')\n",
        "   ```\n",
        "\n",
        "2. **Assign the value 7 to the variable guess_me and the value 1 to the variable start. Write a while loop that compares start with guess_me. Print too low if start is less than guess me. If start equals guess_me, print 'found it!' and exit the loop. If start is greater than guess_me, print 'oops' and exit the loop. Increment start at the end of the loop.**\n",
        "   ```python\n",
        "   guess_me = 7\n",
        "   start = 1\n",
        "   while True:\n",
        "       if start < guess_me:\n",
        "           print('too low')\n",
        "       elif start == guess_me:\n",
        "           print('found it!')\n",
        "           break\n",
        "       else:\n",
        "           print('oops')\n",
        "           break\n",
        "       start += 1\n",
        "   ```\n",
        "\n",
        "3. **Print the following values of the list [3, 2, 1, 0] using a for loop.**\n",
        "   ```python\n",
        "   for value in [3, 2, 1, 0]:\n",
        "       print(value)\n",
        "   ```\n",
        "\n",
        "4. **Use a list comprehension to make a list of the even numbers in range(10).**\n",
        "   ```python\n",
        "   even_numbers = [x for x in range(10) if x % 2 == 0]\n",
        "   ```\n",
        "\n",
        "5. **Use a dictionary comprehension to create the dictionary squares. Use range(10) to return the keys, and use the square of each key as its value.**\n",
        "   ```python\n",
        "   squares = {x: x**2 for x in range(10)}\n",
        "   ```\n",
        "\n",
        "6. **Construct the set odd from the odd numbers in the range using a set comprehension (10).**\n",
        "   ```python\n",
        "   odd = {x for x in range(10) if x % 2 != 0}\n",
        "   ```\n",
        "\n",
        "7. **Use a generator comprehension to return the string 'Got ' and a number for the numbers in range(10). Iterate through this by using a for loop.**\n",
        "   ```python\n",
        "   got_numbers = ('Got ' + str(x) for x in range(10))\n",
        "   for item in got_numbers:\n",
        "       print(item)\n",
        "   ```\n",
        "\n",
        "8. **Define a function called good that returns the list ['Harry', 'Ron', 'Hermione'].**\n",
        "   ```python\n",
        "   def good():\n",
        "       return ['Harry', 'Ron', 'Hermione']\n",
        "   ```\n",
        "\n",
        "9. **Define a generator function called get_odds that returns the odd numbers from range(10). Use a for loop to find and print the third value returned.**\n",
        "   ```python\n",
        "   def get_odds():\n",
        "       for number in range(10):\n",
        "           if number % 2 != 0:\n",
        "               yield number\n",
        "\n",
        "   for count, number in enumerate(get_odds(), 1):\n",
        "       if count == 3:\n",
        "           print(number)\n",
        "           break\n",
        "   ```\n",
        "\n",
        "10. **Define an exception called OopsException. Raise this exception to see what happens. Then write the code to catch this exception and print 'Caught an oops'.**\n",
        "    ```python\n",
        "    class OopsException(Exception):\n",
        "        pass\n",
        "\n",
        "    try:\n",
        "        raise OopsException('Something went wrong!')\n",
        "    except OopsException as e:\n",
        "        print('Caught an oops')\n",
        "    ```\n",
        "\n",
        "11. **Use zip() to make a dictionary called movies that pairs these lists: titles = ['Creature of Habit', 'Crewel Fate'] and plots = ['A nun turns into a monster', 'A haunted yarn shop'].**\n",
        "    ```python\n",
        "    titles = ['Creature of Habit', 'Crewel Fate']\n",
        "    plots = ['A nun turns into a monster', 'A haunted yarn shop']\n",
        "    movies = dict(zip(titles, plots))\n",
        "    ```"
      ],
      "metadata": {
        "id": "dHhfdItUNykm"
      }
    }
  ]
}