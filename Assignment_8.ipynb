{
  "nbformat": 4,
  "nbformat_minor": 0,
  "metadata": {
    "colab": {
      "provenance": [],
      "authorship_tag": "ABX9TyPPifLNS4Nn1rDKoG590aPi",
      "include_colab_link": true
    },
    "kernelspec": {
      "name": "python3",
      "display_name": "Python 3"
    },
    "language_info": {
      "name": "python"
    }
  },
  "cells": [
    {
      "cell_type": "markdown",
      "metadata": {
        "id": "view-in-github",
        "colab_type": "text"
      },
      "source": [
        "<a href=\"https://colab.research.google.com/github/Sanjay030303/Full-Stack-Data-Science-2023/blob/main/Assignment_8.ipynb\" target=\"_parent\"><img src=\"https://colab.research.google.com/assets/colab-badge.svg\" alt=\"Open In Colab\"/></a>"
      ]
    },
    {
      "cell_type": "markdown",
      "source": [
        "1. Is the Python Standard Library included with PyInputPlus?\n",
        "   No, PyInputPlus is not part of the Python Standard Library. You need to install it separately using pip.\n",
        "\n",
        "2. Why is PyInputPlus commonly imported with import pyinputplus as pypi?\n",
        "   PyInputPlus is often imported as pypi to make the module name shorter and easier to type in the code.\n",
        "\n",
        "3. How do you distinguish between inputInt() and inputFloat()?\n",
        "   inputInt() is used to get integer inputs from the user, while inputFloat() is used to get floating-point number inputs.\n",
        "\n",
        "4. Using PyInputPlus, how do you ensure that the user enters a whole number between 0 and 99?\n",
        "   You can use the inputInt() function with the min and max parameters set to 0 and 99, like this: inputInt(min=0, max=99).\n",
        "\n",
        "5. What is transferred to the keyword arguments allowRegexes and blockRegexes?\n",
        "   The allowRegexes and blockRegexes arguments take lists of regular expressions that define which input patterns are allowed or blocked.\n",
        "\n",
        "6. If a blank input is entered three times, what does inputStr(limit=3) do?\n",
        "   If blank input is entered three times, inputStr(limit=3) raises an exception after the third invalid input.\n",
        "\n",
        "7. If blank input is entered three times, what does inputStr(limit=3, default='hello') do?\n",
        "   If blank input is entered three times, inputStr(limit=3, default='hello') returns the string 'hello' after the third invalid input."
      ],
      "metadata": {
        "id": "A4H9caHCYOrN"
      }
    }
  ]
}