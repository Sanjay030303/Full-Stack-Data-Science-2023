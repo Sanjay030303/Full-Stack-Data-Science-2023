{
  "nbformat": 4,
  "nbformat_minor": 0,
  "metadata": {
    "colab": {
      "provenance": [],
      "authorship_tag": "ABX9TyNJ8JnsXzYFE/WxlrbB+HwJ",
      "include_colab_link": true
    },
    "kernelspec": {
      "name": "python3",
      "display_name": "Python 3"
    },
    "language_info": {
      "name": "python"
    }
  },
  "cells": [
    {
      "cell_type": "markdown",
      "metadata": {
        "id": "view-in-github",
        "colab_type": "text"
      },
      "source": [
        "<a href=\"https://colab.research.google.com/github/Sanjay030303/Full-Stack-Data-Science-2023/blob/main/ap8.ipynb\" target=\"_parent\"><img src=\"https://colab.research.google.com/assets/colab-badge.svg\" alt=\"Open In Colab\"/></a>"
      ]
    },
    {
      "cell_type": "code",
      "execution_count": null,
      "metadata": {
        "id": "oEbbcABmu5Cw"
      },
      "outputs": [],
      "source": []
    },
    {
      "cell_type": "markdown",
      "source": [
        "### Q1. What are the two latest user-defined exception constraints in Python 3.X?\n",
        "\n",
        "1. **Must Inherit from BaseException**: User-defined exceptions must inherit from the `BaseException` class, typically via `Exception` or one of its subclasses.\n",
        "2. **Must Not Use String Exceptions**: User-defined exceptions should not be string-based. Instead, they should be class-based to provide more structured and manageable exception handling.\n",
        "\n",
        "### Q2. How are class-based exceptions that have been raised matched to handlers?\n",
        "\n",
        "Class-based exceptions are matched to handlers based on the class hierarchy:\n",
        "\n",
        "1. **Instance Check**: When an exception is raised, the Python interpreter looks for the nearest `try` block with an `except` clause that matches the raised exception.\n",
        "2. **Class Hierarchy Matching**: The `except` clauses are checked in order, and the first one that matches the exception's class or any of its base classes is executed.\n",
        "3. **Order Matters**: Handlers for more specific exception classes should be listed before handlers for more general exception classes to ensure correct matching.\n",
        "\n",
        "### Q3. Describe two methods for attaching context information to exception artifacts.\n",
        "\n",
        "1. **Exception Attributes**: Define attributes in the custom exception class to store additional context information. This allows you to pass and access additional data when the exception is handled.\n",
        "\n",
        "    ```python\n",
        "    class CustomException(Exception):\n",
        "        def __init__(self, message, context):\n",
        "            super().__init__(message)\n",
        "            self.context = context\n",
        "\n",
        "    try:\n",
        "        raise CustomException(\"An error occurred\", {\"key\": \"value\"})\n",
        "    except CustomException as e:\n",
        "        print(f\"Error: {e}, Context: {e.context}\")\n",
        "    ```\n",
        "\n",
        "2. **`__cause__` and `__context__` Attributes**: Use the `__cause__` attribute to explicitly chain exceptions using the `raise ... from ...` syntax, and `__context__` to implicitly chain exceptions when an exception is raised while handling another.\n",
        "\n",
        "    ```python\n",
        "    try:\n",
        "        raise ValueError(\"Initial error\")\n",
        "    except ValueError as e:\n",
        "        raise CustomException(\"New error\") from e\n",
        "    ```\n",
        "\n",
        "### Q4. Describe two methods for specifying the text of an exception object's error message.\n",
        "\n",
        "1. **Passing the Message to the Constructor**: Define the error message when raising the exception and pass it to the constructor of the exception class.\n",
        "\n",
        "    ```python\n",
        "    class CustomException(Exception):\n",
        "        pass\n",
        "\n",
        "    try:\n",
        "        raise CustomException(\"This is an error message\")\n",
        "    except CustomException as e:\n",
        "        print(e)\n",
        "    ```\n",
        "\n",
        "2. **Overriding the `__str__` Method**: Customize the string representation of the exception by overriding the `__str__` method in the custom exception class.\n",
        "\n",
        "    ```python\n",
        "    class CustomException(Exception):\n",
        "        def __init__(self, value):\n",
        "            self.value = value\n",
        "\n",
        "        def __str__(self):\n",
        "            return f\"Error occurred: {self.value}\"\n",
        "\n",
        "    try:\n",
        "        raise CustomException(\"Custom error\")\n",
        "    except CustomException as e:\n",
        "        print(e)\n",
        "    ```\n",
        "\n",
        "### Q5. Why do you no longer use string-based exceptions?\n",
        "\n",
        "String-based exceptions are not used anymore because:\n",
        "\n",
        "1. **Lack of Structure**: String-based exceptions do not provide a structured way to handle specific types of errors, making it harder to write robust and maintainable error-handling code.\n",
        "2. **Limited Information**: They do not support attaching additional context or data, limiting the information available to the exception handler.\n",
        "3. **Inheritance and Polymorphism**: Class-based exceptions leverage inheritance and polymorphism, allowing more flexible and precise exception handling by catching exceptions based on their type hierarchy.\n",
        "4. **Deprecated**: String-based exceptions are deprecated in favor of class-based exceptions, which are the standard practice in modern Python."
      ],
      "metadata": {
        "id": "nmUV5WIcu50E"
      }
    }
  ]
}