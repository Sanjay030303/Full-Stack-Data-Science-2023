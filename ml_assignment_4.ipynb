{
  "nbformat": 4,
  "nbformat_minor": 0,
  "metadata": {
    "colab": {
      "provenance": [],
      "authorship_tag": "ABX9TyNyu5Z0Oy59TGBaiQMdaU2F",
      "include_colab_link": true
    },
    "kernelspec": {
      "name": "python3",
      "display_name": "Python 3"
    },
    "language_info": {
      "name": "python"
    }
  },
  "cells": [
    {
      "cell_type": "markdown",
      "metadata": {
        "id": "view-in-github",
        "colab_type": "text"
      },
      "source": [
        "<a href=\"https://colab.research.google.com/github/Sanjay030303/Full-Stack-Data-Science-2023/blob/main/ml_assignment_4.ipynb\" target=\"_parent\"><img src=\"https://colab.research.google.com/assets/colab-badge.svg\" alt=\"Open In Colab\"/></a>"
      ]
    },
    {
      "cell_type": "code",
      "execution_count": null,
      "metadata": {
        "id": "oEbbcABmu5Cw"
      },
      "outputs": [],
      "source": []
    },
    {
      "cell_type": "markdown",
      "source": [
        "### 1. What are the key tasks involved in getting ready to work with machine learning modeling?\n",
        "\n",
        "Key tasks involved in getting ready for machine learning modeling include:\n",
        "\n",
        "1. **Data Collection**: Gathering data from various sources relevant to the problem.\n",
        "2. **Data Cleaning**: Handling missing values, removing duplicates, and correcting errors.\n",
        "3. **Data Exploration**: Understanding the structure, distribution, and key characteristics of the data.\n",
        "4. **Data Preprocessing**: Normalizing or standardizing data, encoding categorical variables, and splitting data into training and testing sets.\n",
        "5. **Feature Engineering**: Creating new features from raw data to improve the performance of the model.\n",
        "6. **Model Selection**: Choosing the appropriate machine learning algorithm(s) based on the problem type and data characteristics.\n",
        "7. **Hyperparameter Tuning**: Adjusting the parameters of the model to optimize performance.\n",
        "\n",
        "### 2. What are the different forms of data used in machine learning? Give a specific example for each of them.\n",
        "\n",
        "1. **Numerical Data**: Quantitative data representing measurable quantities. Example: Age, height, salary.\n",
        "2. **Categorical Data**: Data representing categories or groups. Example: Gender (male, female), color (red, blue, green).\n",
        "3. **Ordinal Data**: Categorical data with a meaningful order. Example: Education level (high school, bachelor's, master's, Ph.D.).\n",
        "4. **Time Series Data**: Data collected at successive points in time. Example: Stock prices, temperature readings.\n",
        "5. **Text Data**: Unstructured data in the form of text. Example: Customer reviews, social media posts.\n",
        "6. **Image Data**: Visual data represented as pixel values. Example: Photographs, medical imaging scans.\n",
        "7. **Audio Data**: Data in the form of sound waves. Example: Speech recordings, music files.\n",
        "\n",
        "### 3. Distinguish:\n",
        "\n",
        "#### 1. Numeric vs. categorical attributes\n",
        "\n",
        "- **Numeric Attributes**: Attributes that represent measurable quantities and are expressed in numerical form. They can be either discrete or continuous. Example: Age, income.\n",
        "- **Categorical Attributes**: Attributes that represent categories or labels and do not have a numerical value. They can be nominal (no order) or ordinal (with order). Example: Marital status, product category.\n",
        "\n",
        "#### 2. Feature selection vs. dimensionality reduction\n",
        "\n",
        "- **Feature Selection**: The process of selecting a subset of relevant features for use in model building. It involves choosing the most important features while discarding the less important ones.\n",
        "- **Dimensionality Reduction**: The process of reducing the number of features while preserving the essential information. It involves transforming the data into a lower-dimensional space. Examples include PCA (Principal Component Analysis) and LDA (Linear Discriminant Analysis).\n",
        "\n",
        "### 4. Make quick notes on any two of the following:\n",
        "\n",
        "#### 1. The histogram\n",
        "\n",
        "A histogram is a graphical representation of the distribution of numerical data. It is made up of vertical bars, where each bar represents the frequency of data points within a specific range (bin). Histograms help visualize the shape, spread, and central tendency of the data.\n",
        "\n",
        "#### 2. Use a scatter plot\n",
        "\n",
        "A scatter plot is a type of plot that displays values for two variables for a set of data. Each point on the plot represents an individual data point. Scatter plots are useful for identifying relationships, patterns, and potential outliers between two variables.\n",
        "\n",
        "### 5. Why is it necessary to investigate data? Is there a discrepancy in how qualitative and quantitative data are explored?\n",
        "\n",
        "Investigating data is necessary to understand its structure, quality, and underlying patterns. It helps in identifying and correcting errors, handling missing values, and ensuring that the data is suitable for analysis. Qualitative data (non-numerical) is typically explored through thematic analysis, categorization, and text analysis, while quantitative data (numerical) is explored through statistical measures, visualizations, and summary statistics.\n",
        "\n",
        "### 6. What are the various histogram shapes? What exactly are ‘bins’?\n",
        "\n",
        "Various histogram shapes include:\n",
        "\n",
        "1. **Normal Distribution**: Bell-shaped and symmetric.\n",
        "2. **Skewed Left (Negative Skew)**: Longer tail on the left.\n",
        "3. **Skewed Right (Positive Skew)**: Longer tail on the right.\n",
        "4. **Uniform Distribution**: All bins have roughly the same height.\n",
        "5. **Bimodal Distribution**: Two distinct peaks.\n",
        "\n",
        "‘Bins’ are intervals that represent the range of values in the data. Each bin's height indicates the frequency of data points within that range.\n",
        "\n",
        "### 7. How do we deal with data outliers?\n",
        "\n",
        "To deal with data outliers, we can:\n",
        "\n",
        "1. **Investigate and Understand**: Determine if outliers are due to errors or if they are genuine variations.\n",
        "2. **Remove or Correct**: Remove outliers if they are errors or use techniques to correct them.\n",
        "3. **Transform Data**: Apply transformations (e.g., log transformation) to reduce the impact of outliers.\n",
        "4. **Use Robust Methods**: Use statistical methods that are less sensitive to outliers, such as the median or robust regression.\n",
        "\n",
        "### 8. What are the various central inclination measures? Why does mean vary too much from median in certain data sets?\n",
        "\n",
        "The various central inclination measures are:\n",
        "\n",
        "1. **Mean**: The average of all data points.\n",
        "2. **Median**: The middle value when the data is sorted.\n",
        "3. **Mode**: The most frequently occurring value.\n",
        "\n",
        "The mean can vary too much from the median in skewed data sets because the mean is sensitive to extreme values (outliers), while the median is more robust and represents the central point of the data.\n",
        "\n",
        "### 9. Describe how a scatter plot can be used to investigate bivariate relationships. Is it possible to find outliers using a scatter plot?\n",
        "\n",
        "A scatter plot can be used to investigate bivariate relationships by plotting two variables against each other on the x and y axes. Patterns, trends, and correlations between the variables can be observed. Outliers can also be identified as points that deviate significantly from the overall pattern or trend.\n",
        "\n",
        "### 10. Describe how cross-tabs can be used to figure out how two variables are related.\n",
        "\n",
        "Cross-tabs (cross-tabulations) are used to examine the relationship between two categorical variables. They display the frequency distribution of variables in a matrix format, with rows representing one variable and columns representing another. By analyzing the cell counts, we can observe how the variables interact and identify any associations or patterns."
      ],
      "metadata": {
        "id": "nmUV5WIcu50E"
      }
    }
  ]
}