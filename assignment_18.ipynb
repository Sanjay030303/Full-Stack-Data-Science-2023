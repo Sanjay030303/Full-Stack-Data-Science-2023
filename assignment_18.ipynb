{
  "nbformat": 4,
  "nbformat_minor": 0,
  "metadata": {
    "colab": {
      "provenance": [],
      "authorship_tag": "ABX9TyPk9vS/kkOrRJzbV6QaII3T",
      "include_colab_link": true
    },
    "kernelspec": {
      "name": "python3",
      "display_name": "Python 3"
    },
    "language_info": {
      "name": "python"
    }
  },
  "cells": [
    {
      "cell_type": "markdown",
      "metadata": {
        "id": "view-in-github",
        "colab_type": "text"
      },
      "source": [
        "<a href=\"https://colab.research.google.com/github/Sanjay030303/Full-Stack-Data-Science-2023/blob/main/assignment_18.ipynb\" target=\"_parent\"><img src=\"https://colab.research.google.com/assets/colab-badge.svg\" alt=\"Open In Colab\"/></a>"
      ]
    },
    {
      "cell_type": "code",
      "execution_count": null,
      "metadata": {
        "id": "NLJolXkONUUX"
      },
      "outputs": [],
      "source": []
    },
    {
      "cell_type": "markdown",
      "source": [
        "1. **Create a zoo.py file first. Define the hours() function, which prints the string 'Open 9-5 daily'. Then, use the interactive interpreter to import the zoo module and call its hours() function.**\n",
        "\n",
        "   **zoo.py:**\n",
        "   ```python\n",
        "   def hours():\n",
        "       print('Open 9-5 daily')\n",
        "   ```\n",
        "\n",
        "   **Interactive Interpreter:**\n",
        "   ```python\n",
        "   >>> import zoo\n",
        "   >>> zoo.hours()\n",
        "   Open 9-5 daily\n",
        "   ```\n",
        "\n",
        "2. **In the interactive interpreter, import the zoo module as menagerie and call its hours() function.**\n",
        "\n",
        "   **Interactive Interpreter:**\n",
        "   ```python\n",
        "   >>> import zoo as menagerie\n",
        "   >>> menagerie.hours()\n",
        "   Open 9-5 daily\n",
        "   ```\n",
        "\n",
        "3. **Using the interpreter, explicitly import and call the hours() function from zoo.**\n",
        "\n",
        "   **Interactive Interpreter:**\n",
        "   ```python\n",
        "   >>> from zoo import hours\n",
        "   >>> hours()\n",
        "   Open 9-5 daily\n",
        "   ```\n",
        "\n",
        "4. **Import the hours() function as info and call it.**\n",
        "\n",
        "   **Interactive Interpreter:**\n",
        "   ```python\n",
        "   >>> from zoo import hours as info\n",
        "   >>> info()\n",
        "   Open 9-5 daily\n",
        "   ```\n",
        "\n",
        "5. **Create a plain dictionary with the key-value pairs 'a': 1, 'b': 2, and 'c': 3, and print it out.**\n",
        "\n",
        "   ```python\n",
        "   plain_dict = {'a': 1, 'b': 2, 'c': 3}\n",
        "   print(plain_dict)\n",
        "   ```\n",
        "   Output:\n",
        "   ```\n",
        "   {'a': 1, 'b': 2, 'c': 3}\n",
        "   ```\n",
        "\n",
        "6. **Make an OrderedDict called fancy from the same pairs listed in 5 and print it. Did it print in the same order as plain?**\n",
        "\n",
        "   ```python\n",
        "   from collections import OrderedDict\n",
        "\n",
        "   fancy = OrderedDict([('a', 1), ('b', 2), ('c', 3)])\n",
        "   print(fancy)\n",
        "   ```\n",
        "   Output:\n",
        "   ```\n",
        "   OrderedDict([('a', 1), ('b', 2), ('c', 3)])\n",
        "   ```\n",
        "   Yes, it printed in the same order as plain.\n",
        "\n",
        "7. **Make a default dictionary called dict_of_lists and pass it the argument list. Make the list dict_of_lists['a'] and append the value 'something for a' to it in one assignment. Print dict_of_lists['a'].**\n",
        "\n",
        "   ```python\n",
        "   from collections import defaultdict\n",
        "\n",
        "   dict_of_lists = defaultdict(list)\n",
        "   dict_of_lists['a'].append('something for a')\n",
        "   print(dict_of_lists['a'])\n",
        "   ```\n",
        "   Output:\n",
        "   ```\n",
        "   ['something for a']\n",
        "   ```"
      ],
      "metadata": {
        "id": "dHhfdItUNykm"
      }
    }
  ]
}