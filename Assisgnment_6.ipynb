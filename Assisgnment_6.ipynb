{
  "nbformat": 4,
  "nbformat_minor": 0,
  "metadata": {
    "colab": {
      "provenance": [],
      "authorship_tag": "ABX9TyPDGUKK6PoxG0tjxUYZsIuD",
      "include_colab_link": true
    },
    "kernelspec": {
      "name": "python3",
      "display_name": "Python 3"
    },
    "language_info": {
      "name": "python"
    }
  },
  "cells": [
    {
      "cell_type": "markdown",
      "metadata": {
        "id": "view-in-github",
        "colab_type": "text"
      },
      "source": [
        "<a href=\"https://colab.research.google.com/github/Sanjay030303/Full-Stack-Data-Science-2023/blob/main/Assisgnment_6.ipynb\" target=\"_parent\"><img src=\"https://colab.research.google.com/assets/colab-badge.svg\" alt=\"Open In Colab\"/></a>"
      ]
    },
    {
      "cell_type": "markdown",
      "source": [
        "1. What are escape characters, and how do you use them?\n",
        "   - Escape characters are special characters in a string that are used to represent characters that are difficult or impossible to include directly in a string. They are preceded by a backslash (\\). For example, you can use \\' to include a single quote in a string.\n",
        "\n",
        "2. What do the escape characters \\n and \\t stand for?\n",
        "   - \\n represents a newline character and is used for creating a new line in the string.\n",
        "   - \\t represents a tab character and is used for creating a tab or an indentation in the string.\n",
        "\n",
        "3. What is the way to include backslash characters in a string?\n",
        "   - To include a backslash character in a string, you should use a double backslash (\\\\). For example, \"This is a backslash: \\\\\".\n",
        "\n",
        "4. The string \"Howl's Moving Castle\" is a correct value. Why isn't the single quote character in the word Howl's not escaped a problem?\n",
        "   - The single quote character in the word \"Howl's\" is not a problem because the string itself is enclosed in double quotes. In Python, you can use single quotes inside a string enclosed in double quotes, and vice versa, without the need for escaping.\n",
        "\n",
        "5. How do you write a string of newlines if you don't want to use the \\n character?\n",
        "   - You can write a string with newlines using triple-quoted strings (either single or double quotes). For example:\n",
        "     python\n",
        "     multiline_string = '''This is a\n",
        "     string with\n",
        "     newlines.'''\n",
        "     \n",
        "\n",
        "6. What are the values of the given expressions?\n",
        "   - 'Hello, world!'[1] returns the character at index 1, which is 'e'.\n",
        "   - 'Hello, world!'[0:5] returns the substring from index 0 to 4, which is 'Hello'.\n",
        "   - 'Hello, world!'[:5] returns the substring from the beginning up to index 4, which is also 'Hello'.\n",
        "   - 'Hello, world!'[3:] returns the substring from index 3 to the end, which is 'lo, world!'.\n",
        "\n",
        "7. What are the values of the following expressions?\n",
        "   - 'Hello'.upper() returns 'HELLO'.\n",
        "   - 'Hello'.upper().isupper() returns True because the string is in all uppercase.\n",
        "   - 'Hello'.upper().lower() returns 'hello' because it first converts to uppercase and then to lowercase.\n",
        "\n",
        "8. What are the values of the following expressions?\n",
        "   - 'Remember, remember, the fifth of July.'.split() splits the string into a list of words, separating them at spaces. Result: ['Remember,', 'remember,', 'the', 'fifth', 'of', 'July.'].\n",
        "   - '-'.join('There can only one.'.split()) splits the string into words and then joins them back together with hyphens. Result: 'There-can-only-one.'.\n",
        "\n",
        "9. What are the methods for right-justifying, left-justifying, and centering a string?\n",
        "   - For right-justifying: str.rjust(width, fillchar) method.\n",
        "   - For left-justifying: str.ljust(width, fillchar) method.\n",
        "   - For centering: str.center(width, fillchar) method.\n",
        "\n",
        "10. What is the best way to remove whitespace characters from the start or end?\n",
        "    - The str.strip() method is used to remove whitespace characters from both the start and end of a string. For removing only leading whitespace, you can use str.lstrip(), and for trailing whitespace, you can use str.rstrip()."
      ],
      "metadata": {
        "id": "ZD9cWWO6EB8H"
      }
    },
    {
      "cell_type": "markdown",
      "source": [],
      "metadata": {
        "id": "pZE38Oo0IvQ5"
      }
    },
    {
      "cell_type": "markdown",
      "source": [],
      "metadata": {
        "id": "6m3VL9sLFmSV"
      }
    },
    {
      "cell_type": "code",
      "source": [],
      "metadata": {
        "id": "4KNSZiNuFTx1"
      },
      "execution_count": null,
      "outputs": []
    }
  ]
}