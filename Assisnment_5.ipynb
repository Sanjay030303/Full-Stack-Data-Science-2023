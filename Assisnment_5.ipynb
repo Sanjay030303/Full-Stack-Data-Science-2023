{
  "nbformat": 4,
  "nbformat_minor": 0,
  "metadata": {
    "colab": {
      "provenance": [],
      "authorship_tag": "ABX9TyOk8WiBYt6jC5uY4ccLti4p",
      "include_colab_link": true
    },
    "kernelspec": {
      "name": "python3",
      "display_name": "Python 3"
    },
    "language_info": {
      "name": "python"
    }
  },
  "cells": [
    {
      "cell_type": "markdown",
      "metadata": {
        "id": "view-in-github",
        "colab_type": "text"
      },
      "source": [
        "<a href=\"https://colab.research.google.com/github/Sanjay030303/Full-Stack-Data-Science-2023/blob/main/Assisnment_5.ipynb\" target=\"_parent\"><img src=\"https://colab.research.google.com/assets/colab-badge.svg\" alt=\"Open In Colab\"/></a>"
      ]
    },
    {
      "cell_type": "markdown",
      "source": [
        "1. What does an empty dictionary's code look like?\n",
        "   - An empty dictionary's code looks like: {}.\n",
        "\n",
        "2. What is the value of a dictionary value with the key 'foo' and the value 42?\n",
        "   - The value of a dictionary with the key 'foo' and the value 42 would be: {'foo': 42}.\n",
        "\n",
        "3. What is the most significant distinction between a dictionary and a list?\n",
        "   - The most significant distinction between a dictionary and a list is that a dictionary stores key-value pairs, while a list stores ordered sequences of elements.\n",
        "\n",
        "4. What happens if you try to access spam['foo'] if spam is {'bar': 100}?\n",
        "   - If you try to access spam['foo'] when spam is {'bar': 100}, you will get a KeyError because there is no key 'foo' in the dictionary.\n",
        "\n",
        "5. If a dictionary is stored in spam, what is the difference between the expressions 'cat' in spam and 'cat' in spam.keys()?\n",
        "   - 'cat' in spam checks if 'cat' is a key in the dictionary spam.\n",
        "   - 'cat' in spam.keys() also checks if 'cat' is a key in the dictionary spam.\n",
        "   The difference is that the first expression checks directly in the dictionary, while the second explicitly checks the keys of the dictionary. Both expressions will give the same result.\n",
        "\n",
        "6. If a dictionary is stored in spam, what is the difference between the expressions 'cat' in spam and 'cat' in spam.values()?\n",
        "   - 'cat' in spam checks if 'cat' is a key in the dictionary spam.\n",
        "   - 'cat' in spam.values() checks if 'cat' is a value in the dictionary spam.\n",
        "   The difference is that the first expression checks for keys, while the second checks for values. These expressions may give different results.\n",
        "\n",
        "7. What is a shortcut for the following code?\n",
        "   \n",
        "   if 'color' not in spam:\n",
        "       spam['color'] = 'black'\n",
        "   \n",
        "   - A shortcut for the given code is:\n",
        "     \n",
        "     spam.setdefault('color', 'black')\n",
        "     \n",
        "\n",
        "8. How do you \"pretty print\" dictionary values using which module and function?\n",
        "   - To \"pretty print\" dictionary values, you can use the json module and the json.dumps() function with the indent parameter. Here's an example:\n",
        "   \n",
        "   import json\n",
        "\n",
        "   my_dict = {'key1': 'value1', 'key2': 'value2'}\n",
        "   pretty_dict = json.dumps(my_dict, indent=4)\n",
        "\n",
        "   print(pretty_dict)\n",
        "\n",
        "   This will print the dictionary with proper indentation for a visually appealing format."
      ],
      "metadata": {
        "id": "ZD9cWWO6EB8H"
      }
    },
    {
      "cell_type": "markdown",
      "source": [],
      "metadata": {
        "id": "pZE38Oo0IvQ5"
      }
    },
    {
      "cell_type": "markdown",
      "source": [],
      "metadata": {
        "id": "6m3VL9sLFmSV"
      }
    },
    {
      "cell_type": "code",
      "source": [],
      "metadata": {
        "id": "4KNSZiNuFTx1"
      },
      "execution_count": null,
      "outputs": []
    }
  ]
}