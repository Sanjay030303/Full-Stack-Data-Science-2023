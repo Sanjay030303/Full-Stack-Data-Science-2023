{
  "nbformat": 4,
  "nbformat_minor": 0,
  "metadata": {
    "colab": {
      "provenance": [],
      "authorship_tag": "ABX9TyPlXfPcl5uhkusiHlcjj77+",
      "include_colab_link": true
    },
    "kernelspec": {
      "name": "python3",
      "display_name": "Python 3"
    },
    "language_info": {
      "name": "python"
    }
  },
  "cells": [
    {
      "cell_type": "markdown",
      "metadata": {
        "id": "view-in-github",
        "colab_type": "text"
      },
      "source": [
        "<a href=\"https://colab.research.google.com/github/Sanjay030303/Full-Stack-Data-Science-2023/blob/main/assignment_12.ipynb\" target=\"_parent\"><img src=\"https://colab.research.google.com/assets/colab-badge.svg\" alt=\"Open In Colab\"/></a>"
      ]
    },
    {
      "cell_type": "code",
      "execution_count": null,
      "metadata": {
        "id": "NLJolXkONUUX"
      },
      "outputs": [],
      "source": []
    },
    {
      "cell_type": "markdown",
      "source": [
        "1. **In what modes should the PdfFileReader() and PdfFileWriter() File objects be opened?**\n",
        "   - PdfFileReader should be opened in 'rb' mode (read binary), and PdfFileWriter should be opened in 'wb' mode (write binary).\n",
        "\n",
        "2. **From a PdfFileReader object, how do you get a Page object for page 5?**\n",
        "   - Use the getPage(4) method (page numbers are zero-indexed).\n",
        "\n",
        "3. **What PdfFileReader variable stores the number of pages in the PDF document?**\n",
        "   - The numPages variable stores the number of pages.\n",
        "\n",
        "4. **If a PdfFileReader object’s PDF is encrypted with the password swordfish, what must you do before you can obtain Page objects from it?**\n",
        "   - You must call the decrypt('swordfish') method on the PdfFileReader object.\n",
        "\n",
        "5. **What methods do you use to rotate a page?**\n",
        "   - Use the rotateClockwise() or rotateCounterClockwise() methods.\n",
        "\n",
        "6. **What is the difference between a Run object and a Paragraph object?**\n",
        "   - A Paragraph object represents a block of text, while a Run object represents a segment of text within a paragraph with a specific style.\n",
        "\n",
        "7. **How do you obtain a list of Paragraph objects for a Document object that’s stored in a variable named doc?**\n",
        "   - Use the doc.paragraphs attribute to get a list of Paragraph objects.\n",
        "\n",
        "8. **What type of object has bold, underline, italic, strike, and outline variables?**\n",
        "   - A Run object has these variables.\n",
        "\n",
        "9. **What is the difference between False, True, and None for the bold variable?**\n",
        "   - False means the text is not bold, True means the text is bold, and None means the default setting is used.\n",
        "\n",
        "10. **How do you create a Document object for a new Word document?**\n",
        "    - Use the Document() constructor from the python-docx library.\n",
        "\n",
        "11. **How do you add a paragraph with the text 'Hello, there!' to a Document object stored in a variable named doc?**\n",
        "    - Call doc.add_paragraph('Hello, there!').\n",
        "\n",
        "12. **What integers represent the levels of headings available in Word documents?**\n",
        "    - The integers 0 through 9 represent the levels of headings."
      ],
      "metadata": {
        "id": "dHhfdItUNykm"
      }
    }
  ]
}