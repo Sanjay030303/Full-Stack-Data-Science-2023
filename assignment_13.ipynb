{
  "nbformat": 4,
  "nbformat_minor": 0,
  "metadata": {
    "colab": {
      "provenance": [],
      "authorship_tag": "ABX9TyPfHpRSof18X6DkfCAq+SqO",
      "include_colab_link": true
    },
    "kernelspec": {
      "name": "python3",
      "display_name": "Python 3"
    },
    "language_info": {
      "name": "python"
    }
  },
  "cells": [
    {
      "cell_type": "markdown",
      "metadata": {
        "id": "view-in-github",
        "colab_type": "text"
      },
      "source": [
        "<a href=\"https://colab.research.google.com/github/Sanjay030303/Full-Stack-Data-Science-2023/blob/main/assignment_13.ipynb\" target=\"_parent\"><img src=\"https://colab.research.google.com/assets/colab-badge.svg\" alt=\"Open In Colab\"/></a>"
      ]
    },
    {
      "cell_type": "code",
      "execution_count": null,
      "metadata": {
        "id": "NLJolXkONUUX"
      },
      "outputs": [],
      "source": []
    },
    {
      "cell_type": "markdown",
      "source": [
        "1. **What advantages do Excel spreadsheets have over CSV spreadsheets?**\n",
        "   - Excel spreadsheets support multiple sheets, cell formatting, formulas, charts, and complex data types, while CSV files are plain text and only support simple data.\n",
        "\n",
        "2. **What do you pass to csv.reader() and csv.writer() to create reader and writer objects?**\n",
        "   - Pass a file object to csv.reader() to create a reader object and to csv.writer() to create a writer object.\n",
        "\n",
        "3. **What modes do File objects for reader and writer objects need to be opened in?**\n",
        "   - File objects for reader objects need to be opened in 'r' mode (read mode), and for writer objects, they need to be opened in 'w' mode (write mode).\n",
        "\n",
        "4. **What method takes a list argument and writes it to a CSV file?**\n",
        "   - The writerow() method takes a list argument and writes it to a CSV file.\n",
        "\n",
        "5. **What do the keyword arguments delimiter and line terminator do?**\n",
        "   - The delimiter argument specifies the character that separates values, and the line terminator argument specifies the character that ends each row.\n",
        "\n",
        "6. **What function takes a string of JSON data and returns a Python data structure?**\n",
        "   - The json.loads() function takes a string of JSON data and returns a Python data structure.\n",
        "\n",
        "7. **What function takes a Python data structure and returns a string of JSON data?**\n",
        "   - The json.dumps() function takes a Python data structure and returns a string of JSON data."
      ],
      "metadata": {
        "id": "dHhfdItUNykm"
      }
    }
  ]
}