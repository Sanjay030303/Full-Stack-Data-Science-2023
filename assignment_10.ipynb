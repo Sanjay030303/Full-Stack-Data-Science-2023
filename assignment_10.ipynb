{
  "nbformat": 4,
  "nbformat_minor": 0,
  "metadata": {
    "colab": {
      "provenance": [],
      "authorship_tag": "ABX9TyOEh1ghn8WQSE0b4jORV/IU",
      "include_colab_link": true
    },
    "kernelspec": {
      "name": "python3",
      "display_name": "Python 3"
    },
    "language_info": {
      "name": "python"
    }
  },
  "cells": [
    {
      "cell_type": "markdown",
      "metadata": {
        "id": "view-in-github",
        "colab_type": "text"
      },
      "source": [
        "<a href=\"https://colab.research.google.com/github/Sanjay030303/Full-Stack-Data-Science-2023/blob/main/assignment_10.ipynb\" target=\"_parent\"><img src=\"https://colab.research.google.com/assets/colab-badge.svg\" alt=\"Open In Colab\"/></a>"
      ]
    },
    {
      "cell_type": "code",
      "execution_count": null,
      "metadata": {
        "id": "QVzskiqTZkiD"
      },
      "outputs": [],
      "source": []
    },
    {
      "cell_type": "markdown",
      "source": [
        "1. How do you distinguish between shutil.copy() and shutil.copytree()?\n",
        "\n",
        "   shutil.copy() is used to copy a single file from one location to another, whereas shutil.copytree() is used to copy an entire directory tree, including all files and subdirectories, to a new location.\n",
        "\n",
        "2. What function is used to rename files?\n",
        "   The function used to rename files is os.rename().\n",
        "\n",
        "3. What is the difference between the delete functions in the send2trash and shutil modules?\n",
        "   The send2trash module's delete function moves files and folders to the recycle bin or trash, allowing for recovery, while shutil's delete functions, such as shutil.rmtree(), permanently delete files and directories, making them unrecoverable.\n",
        "\n",
        "4. ZipFile objects have a close() method just like File objects’ close() method. What ZipFile method is equivalent to File objects’ open() method?\n",
        "\n",
        "   The ZipFile method equivalent to File objects' open() method is zipfile.ZipFile().\n",
        "\n",
        "5. Create a programme that searches a folder tree for files with a certain file extension (such as .pdf or .jpg). Copy these files from whatever location they are in to a new folder.\n",
        "\n",
        "```python\n",
        "import os\n",
        "import shutil\n",
        "\n",
        "def search_and_copy(src_folder, dest_folder, file_extension):\n",
        "    if not os.path.exists(dest_folder):\n",
        "        os.makedirs(dest_folder)\n",
        "    \n",
        "    for foldername, subfolders, filenames in os.walk(src_folder):\n",
        "        for filename in filenames:\n",
        "            if filename.endswith(file_extension):\n",
        "                file_path = os.path.join(foldername, filename)\n",
        "                shutil.copy(file_path, dest_folder)\n",
        "                print(f\"Copied {file_path} to {dest_folder}\")\n",
        "\n",
        "# Example usage\n",
        "source_folder = '/path/to/source/folder'\n",
        "destination_folder = '/path/to/destination/folder'\n",
        "extension = '.pdf'  # Change to desired file extension\n",
        "\n",
        "search_and_copy(source_folder, destination_folder, extension)\n",
        "```\n",
        "\n"
      ],
      "metadata": {
        "id": "BIAeKsqza5KZ"
      }
    }
  ]
}