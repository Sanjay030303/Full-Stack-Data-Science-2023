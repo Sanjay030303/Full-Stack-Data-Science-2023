{
  "nbformat": 4,
  "nbformat_minor": 0,
  "metadata": {
    "colab": {
      "provenance": [],
      "authorship_tag": "ABX9TyO9NpF9UlCwkWQjsCOy9i64",
      "include_colab_link": true
    },
    "kernelspec": {
      "name": "python3",
      "display_name": "Python 3"
    },
    "language_info": {
      "name": "python"
    }
  },
  "cells": [
    {
      "cell_type": "markdown",
      "metadata": {
        "id": "view-in-github",
        "colab_type": "text"
      },
      "source": [
        "<a href=\"https://colab.research.google.com/github/Sanjay030303/Full-Stack-Data-Science-2023/blob/main/assignment_16.ipynb\" target=\"_parent\"><img src=\"https://colab.research.google.com/assets/colab-badge.svg\" alt=\"Open In Colab\"/></a>"
      ]
    },
    {
      "cell_type": "code",
      "execution_count": null,
      "metadata": {
        "id": "NLJolXkONUUX"
      },
      "outputs": [],
      "source": []
    },
    {
      "cell_type": "markdown",
      "source": [
        "1. **Create a list called years_list, starting with the year of your birth, and each year thereafter until the year of your fifth birthday.**\n",
        "   - If you were born in 1980, the list would be: years_list = [1980, 1981, 1982, 1983, 1984, 1985].\n",
        "\n",
        "2. **In which year in years_list was your third birthday? Remember, you were 0 years of age for your first year.**\n",
        "   - The year of your third birthday would be the fourth element in the list, which is 1983.\n",
        "\n",
        "3. **In the years list, which year were you the oldest?**\n",
        "   - The year of your fifth birthday, which is the last element in the list, 1985.\n",
        "\n",
        "4. **Make a list called things with these three strings as elements: \"mozzarella\", \"cinderella\", \"salmonella\".**\n",
        "   - things = [\"mozzarella\", \"cinderella\", \"salmonella\"]\n",
        "\n",
        "5. **Capitalize the element in things that refers to a person and then print the list. Did it change the element in the list?**\n",
        "   - things[1] = things[1].capitalize()\n",
        "   - The list will now be: [\"mozzarella\", \"Cinderella\", \"salmonella\"]. Yes, it changed the element in the list.\n",
        "\n",
        "6. **Make a surprise list with the elements \"Groucho,\" \"Chico,\" and \"Harpo.\"**\n",
        "   - surprise = [\"Groucho\", \"Chico\", \"Harpo\"]\n",
        "\n",
        "7. **Lowercase the last element of the surprise list, reverse it, and then capitalize it.**\n",
        "   - surprise[-1] = surprise[-1].lower()[::-1].capitalize()\n",
        "   - The last element will become \"Oprah\". The list will be: [\"Groucho\", \"Chico\", \"Oprah\"]\n",
        "\n",
        "8. **Make an English-to-French dictionary called e2f and print it. Here are your starter words: dog is chien, cat is chat, and walrus is morse.**\n",
        "   - e2f = {\"dog\": \"chien\", \"cat\": \"chat\", \"walrus\": \"morse\"}\n",
        "   - print(e2f)\n",
        "\n",
        "9. **Write the French word for walrus in your three-word dictionary e2f.**\n",
        "   - The French word for walrus is \"morse\".\n",
        "\n",
        "10. **Make a French-to-English dictionary called f2e from e2f. Use the items method.**\n",
        "    - f2e = {french: english for english, french in e2f.items()}\n",
        "\n",
        "11. **Print the English version of the French word chien using f2e.**\n",
        "    - print(f2e[\"chien\"])\n",
        "\n",
        "12. **Make and print a set of English words from the keys in e2f.**\n",
        "    - english_words = set(e2f.keys())\n",
        "    - print(english_words)\n",
        "\n",
        "13. **Make a multilevel dictionary called life. Use these strings for the topmost keys: 'animals', 'plants', and 'other'. Make the 'animals' key refer to another dictionary with the keys 'cats', 'octopi', and 'emus'. Make the 'cats' key refer to a list of strings with the values 'Henri', 'Grumpy', and 'Lucy'. Make all the other keys refer to empty dictionaries.**\n",
        "    - life = {\n",
        "        \"animals\": {\n",
        "            \"cats\": [\"Henri\", \"Grumpy\", \"Lucy\"],\n",
        "            \"octopi\": {},\n",
        "            \"emus\": {}\n",
        "        },\n",
        "        \"plants\": {},\n",
        "        \"other\": {}\n",
        "    }\n",
        "\n",
        "14. **Print the top-level keys of life.**\n",
        "    - print(life.keys())\n",
        "\n",
        "15. **Print the keys for life['animals'].**\n",
        "    - print(life[\"animals\"].keys())\n",
        "\n",
        "16. **Print the values for life['animals']['cats'].**\n",
        "    - print(life[\"animals\"][\"cats\"])"
      ],
      "metadata": {
        "id": "dHhfdItUNykm"
      }
    }
  ]
}