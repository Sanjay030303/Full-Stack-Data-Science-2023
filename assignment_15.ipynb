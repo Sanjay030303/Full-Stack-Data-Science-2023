{
  "nbformat": 4,
  "nbformat_minor": 0,
  "metadata": {
    "colab": {
      "provenance": [],
      "authorship_tag": "ABX9TyPb5c+gUYUZxmeb6g6KBl3t",
      "include_colab_link": true
    },
    "kernelspec": {
      "name": "python3",
      "display_name": "Python 3"
    },
    "language_info": {
      "name": "python"
    }
  },
  "cells": [
    {
      "cell_type": "markdown",
      "metadata": {
        "id": "view-in-github",
        "colab_type": "text"
      },
      "source": [
        "<a href=\"https://colab.research.google.com/github/Sanjay030303/Full-Stack-Data-Science-2023/blob/main/assignment_15.ipynb\" target=\"_parent\"><img src=\"https://colab.research.google.com/assets/colab-badge.svg\" alt=\"Open In Colab\"/></a>"
      ]
    },
    {
      "cell_type": "code",
      "execution_count": null,
      "metadata": {
        "id": "NLJolXkONUUX"
      },
      "outputs": [],
      "source": []
    },
    {
      "cell_type": "markdown",
      "source": [
        "1. **How many seconds are in an hour? Use the interactive interpreter as a calculator and multiply the number of seconds in a minute (60) by the number of minutes in an hour (also 60).**\n",
        "   - There are 3600 seconds in an hour (60 seconds/minute * 60 minutes/hour).\n",
        "\n",
        "2. **Assign the result from the previous task (seconds in an hour) to a variable called seconds_per_hour.**\n",
        "   - Assign 3600 to a variable named seconds_per_hour.\n",
        "\n",
        "3. **How many seconds do you think there are in a day? Make use of the variables seconds_per_hour and minutes_per_hour.**\n",
        "   - There are 86400 seconds in a day (seconds_per_hour * 24 hours/day).\n",
        "\n",
        "4. **Calculate seconds per day again, but this time save the result in a variable called seconds_per_day.**\n",
        "   - Assign 86400 to a variable named seconds_per_day.\n",
        "\n",
        "5. **Divide seconds_per_day by seconds_per_hour. Use floating-point (/) division.**\n",
        "   - 86400 / 3600 equals 24.0.\n",
        "\n",
        "6. **Divide seconds_per_day by seconds_per_hour, using integer (//) division. Did this number agree with the floating-point value from the previous question, aside from the final .0?**\n",
        "   - 86400 // 3600 equals 24, which agrees with the floating-point value 24.0.\n",
        "\n",
        "7. **Write a generator, genPrimes, that returns the sequence of prime numbers on successive calls to its next() method: 2, 3, 5, 7, 11, ...**\n",
        "   - Here is a simple generator function for prime numbers:\n",
        "\n",
        "```python\n",
        "def genPrimes():\n",
        "    primes = []\n",
        "    candidate = 2\n",
        "    while True:\n",
        "        is_prime = all(candidate % prime != 0 for prime in primes)\n",
        "        if is_prime:\n",
        "            primes.append(candidate)\n",
        "            yield candidate\n",
        "        candidate += 1\n",
        "```\n",
        "This generator function will yield the next prime number each time its next() method is called."
      ],
      "metadata": {
        "id": "dHhfdItUNykm"
      }
    }
  ]
}