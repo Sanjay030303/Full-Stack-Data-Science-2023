{
  "nbformat": 4,
  "nbformat_minor": 0,
  "metadata": {
    "colab": {
      "provenance": [],
      "authorship_tag": "ABX9TyNDlUZIl8qWHhjW1Wtmc7GV",
      "include_colab_link": true
    },
    "kernelspec": {
      "name": "python3",
      "display_name": "Python 3"
    },
    "language_info": {
      "name": "python"
    }
  },
  "cells": [
    {
      "cell_type": "markdown",
      "metadata": {
        "id": "view-in-github",
        "colab_type": "text"
      },
      "source": [
        "<a href=\"https://colab.research.google.com/github/Sanjay030303/Full-Stack-Data-Science-2023/blob/main/assignment_25.ipynb\" target=\"_parent\"><img src=\"https://colab.research.google.com/assets/colab-badge.svg\" alt=\"Open In Colab\"/></a>"
      ]
    },
    {
      "cell_type": "code",
      "execution_count": null,
      "metadata": {
        "id": "NLJolXkONUUX"
      },
      "outputs": [],
      "source": []
    },
    {
      "cell_type": "markdown",
      "source": [
        "\n",
        "\n",
        "1. **What is the difference between enclosing a list comprehension in square brackets and parentheses?**\n",
        "   - When you enclose a list comprehension in **square brackets** (`[ ]`), it creates a list. For example:\n",
        "     ```python\n",
        "     squares = [x**2 for x in range(5)]\n",
        "     ```\n",
        "     This creates a list `[0, 1, 4, 9, 16]`.\n",
        "   - When you enclose a list comprehension in **parentheses** (`( )`), it creates a generator object. For example:\n",
        "     ```python\n",
        "     squares_gen = (x**2 for x in range(5))\n",
        "     ```\n",
        "     This creates a generator object, which generates values lazily when iterated over.\n",
        "\n",
        "2. **What is the relationship between generators and iterators?**\n",
        "   - **Generators** are a special type of iterator. They are created using the `yield` statement or as generator expressions `( )`. Generators generate values on-the-fly and only store the state of the iteration.\n",
        "   - **Iterators** are objects that implement the iterator protocol, which includes methods like `__iter__()` and `__next__()`. Iterators can be created from any iterable using the `iter()` function.\n",
        "\n",
        "3. **What are the signs that a function is a generator function?**\n",
        "   - A function is a generator function if it contains at least one `yield` statement.\n",
        "   - Instead of returning a value using `return`, generator functions use `yield` to produce a series of values when iterated over.\n",
        "\n",
        "4. **What is the purpose of a yield statement?**\n",
        "   - The `yield` statement is used in generator functions to produce a series of values one at a time.\n",
        "   - It suspends the function’s execution and saves its state so that it can be resumed later, allowing the generator to produce a sequence of values lazily.\n",
        "\n",
        "5. **What is the relationship between map calls and list comprehensions? Make a comparison and contrast between the two.**\n",
        "   - **Map calls (`map()`):**\n",
        "     - `map()` applies a function to each item in an iterable (like a list) and returns an iterator that yields the results.\n",
        "     - Example:\n",
        "       ```python\n",
        "       squares_map = map(lambda x: x**2, range(5))\n",
        "       ```\n",
        "     - It's concise but can be less readable when using complex functions.\n",
        "   \n",
        "   - **List comprehensions:**\n",
        "     - List comprehensions build lists by evaluating an expression for each item in an iterable.\n",
        "     - Example:\n",
        "       ```python\n",
        "       squares_list = [x**2 for x in range(5)]\n",
        "       ```\n",
        "     - More readable and can include conditions (`if` statements) and nested loops.\n",
        "   \n",
        "   - **Comparison:**\n",
        "     - Both `map()` and list comprehensions can be used to apply a function to every item in an iterable.\n",
        "     - List comprehensions are generally more readable and easier to understand, especially for simple transformations.\n",
        "     - `map()` can be more concise and may perform better in some cases, especially when using built-in functions or lambdas.\n",
        "\n",
        "   - **Contrast:**\n",
        "     - List comprehensions create lists directly, while `map()` returns an iterator that needs to be converted to a list or iterated over.\n",
        "     - List comprehensions support more complex operations like filtering (`if` statements) and nested loops, which can make them more versatile.\n",
        "     - `map()` is limited to applying a function to each item without additional conditions or nested structures.\n"
      ],
      "metadata": {
        "id": "dHhfdItUNykm"
      }
    }
  ]
}