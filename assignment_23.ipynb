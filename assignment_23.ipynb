{
  "nbformat": 4,
  "nbformat_minor": 0,
  "metadata": {
    "colab": {
      "provenance": [],
      "authorship_tag": "ABX9TyPZ+PLrMeW20a6u+UCeU0P1",
      "include_colab_link": true
    },
    "kernelspec": {
      "name": "python3",
      "display_name": "Python 3"
    },
    "language_info": {
      "name": "python"
    }
  },
  "cells": [
    {
      "cell_type": "markdown",
      "metadata": {
        "id": "view-in-github",
        "colab_type": "text"
      },
      "source": [
        "<a href=\"https://colab.research.google.com/github/Sanjay030303/Full-Stack-Data-Science-2023/blob/main/assignment_23.ipynb\" target=\"_parent\"><img src=\"https://colab.research.google.com/assets/colab-badge.svg\" alt=\"Open In Colab\"/></a>"
      ]
    },
    {
      "cell_type": "code",
      "execution_count": null,
      "metadata": {
        "id": "NLJolXkONUUX"
      },
      "outputs": [],
      "source": []
    },
    {
      "cell_type": "markdown",
      "source": [
        "Certainly! Here are the questions with answers provided:\n",
        "\n",
        "1. **What is the result of the code, and why?**\n",
        "   ```python\n",
        "   >>> def func(a, b=6, c=8):\n",
        "   ...     print(a, b, c)\n",
        "   >>> func(1, 2)\n",
        "   ```\n",
        "\n",
        "   **Output and Explanation:**\n",
        "   ```\n",
        "   1 2 8\n",
        "   ```\n",
        "   In this function call, `func(1, 2)`, `a` is assigned 1, `b` is explicitly passed as 2, and `c` retains its default value of 8. Therefore, when the function `func()` is executed, it prints `1 2 8`.\n",
        "\n",
        "2. **What is the result of this code, and why?**\n",
        "   ```python\n",
        "   >>> def func(a, b, c=5):\n",
        "   ...     print(a, b, c)\n",
        "   >>> func(1, c=3, b=2)\n",
        "   ```\n",
        "\n",
        "   **Output and Explanation:**\n",
        "   ```\n",
        "   1 2 3\n",
        "   ```\n",
        "   Here, `func()` is defined with parameters `a`, `b`, and `c`, where `c` has a default value of 5. When `func(1, c=3, b=2)` is called, `a` is assigned 1, `b` is explicitly passed as 2, and `c` is passed as 3, overriding its default value. Hence, the output is `1 2 3`.\n",
        "\n",
        "3. **How about this code: what is its result, and why?**\n",
        "   ```python\n",
        "   >>> def func(a, *pargs):\n",
        "   ...     print(a, pargs)\n",
        "   >>> func(1, 2, 3)\n",
        "   ```\n",
        "\n",
        "   **Output and Explanation:**\n",
        "   ```\n",
        "   1 (2, 3)\n",
        "   ```\n",
        "   The `*pargs` parameter in `func()` collects any additional positional arguments into a tuple `pargs`. When `func(1, 2, 3)` is called, `a` is assigned 1, and `2` and `3` are collected into `pargs` as `(2, 3)`. Therefore, the output is `1 (2, 3)`.\n",
        "\n",
        "4. **What does this code print, and why?**\n",
        "   ```python\n",
        "   >>> def func(a, **kargs):\n",
        "   ...     print(a, kargs)\n",
        "   >>> func(a=1, c=3, b=2)\n",
        "   ```\n",
        "\n",
        "   **Output and Explanation:**\n",
        "   ```\n",
        "   1 {'c': 3, 'b': 2}\n",
        "   ```\n",
        "   The `**kargs` parameter in `func()` collects any additional keyword arguments into a dictionary `kargs`. When `func(a=1, c=3, b=2)` is called, `a` is assigned 1, and `b=2` and `c=3` are collected into `kargs` as `{'c': 3, 'b': 2}`. Therefore, the output is `1 {'c': 3, 'b': 2}`.\n",
        "\n",
        "5. **What gets printed by this, and explain?**\n",
        "   ```python\n",
        "   >>> def func(a, b, c=8, d=5):\n",
        "   ...     print(a, b, c, d)\n",
        "   >>> func(1, *(5, 6))\n",
        "   ```\n",
        "\n",
        "   **Output and Explanation:**\n",
        "   ```\n",
        "   1 5 6 5\n",
        "   ```\n",
        "   Here, `*(5, 6)` unpacks the tuple `(5, 6)` into positional arguments for `b` and `c`. Therefore, `b` is assigned 5 and `c` is assigned 6. `a` is assigned 1 by default, and `d` retains its default value of 5. Hence, the output is `1 5 6 5`.\n",
        "\n",
        "6. **What is the result of this, and explain?**\n",
        "   ```python\n",
        "   >>> def func(a, b, c):\n",
        "   ...     a = 2\n",
        "   ...     b[0] = 'x'\n",
        "   ...     c['a'] = 'y'\n",
        "   >>> l = 1\n",
        "   >>> m = [1]\n",
        "   >>> n = {'a': 0}\n",
        "   >>> func(l, m, n)\n",
        "   >>> l, m, n\n",
        "   ```\n",
        "\n",
        "   **Output and Explanation:**\n",
        "   ```\n",
        "   (1, ['x'], {'a': 'y'})\n",
        "   ```\n",
        "   In this code snippet, `func()` modifies its parameters:\n",
        "   - `a` is reassigned to 2, but since `a` is an integer (`l`), it remains unaffected outside the function.\n",
        "   - `b[0]` modifies the first element of list `m` to 'x', which is reflected outside the function.\n",
        "   - `c['a']` assigns 'y' to key 'a' in dictionary `n`, which is also reflected outside the function.\n",
        "   \n",
        "   Therefore, after calling `func(l, m, n)`, `l` remains 1, `m` becomes `['x']`, and `n` becomes `{'a': 'y'}`."
      ],
      "metadata": {
        "id": "dHhfdItUNykm"
      }
    }
  ]
}