{
  "nbformat": 4,
  "nbformat_minor": 0,
  "metadata": {
    "colab": {
      "provenance": [],
      "authorship_tag": "ABX9TyPRGkZLUxXyoHL9IiJFS6YK",
      "include_colab_link": true
    },
    "kernelspec": {
      "name": "python3",
      "display_name": "Python 3"
    },
    "language_info": {
      "name": "python"
    }
  },
  "cells": [
    {
      "cell_type": "markdown",
      "metadata": {
        "id": "view-in-github",
        "colab_type": "text"
      },
      "source": [
        "<a href=\"https://colab.research.google.com/github/Sanjay030303/Full-Stack-Data-Science-2023/blob/main/assignment_14.ipynb\" target=\"_parent\"><img src=\"https://colab.research.google.com/assets/colab-badge.svg\" alt=\"Open In Colab\"/></a>"
      ]
    },
    {
      "cell_type": "code",
      "execution_count": null,
      "metadata": {
        "id": "NLJolXkONUUX"
      },
      "outputs": [],
      "source": []
    },
    {
      "cell_type": "markdown",
      "source": [
        "1. **What does RGBA stand for?**\n",
        "   - RGBA stands for Red, Green, Blue, and Alpha, where Alpha represents the opacity.\n",
        "\n",
        "2. **From the Pillow module, how do you get the RGBA value of any image?**\n",
        "   - Use the getpixel() method on an image object to get the RGBA value of a specific pixel.\n",
        "\n",
        "3. **What is a box tuple, and how does it work?**\n",
        "   - A box tuple is a tuple of four integers representing a rectangular region in an image: (left, upper, right, lower).\n",
        "\n",
        "4. **How can you find out the width and height of an Image object?**\n",
        "   - Use the size attribute of the Image object, which returns a tuple (width, height).\n",
        "\n",
        "5. **What method would you call to get an Image object for a 100×100 image, excluding the lower-left quarter of it?**\n",
        "   - Call the crop() method with a box tuple that excludes the lower-left quarter, like img.crop((0, 0, 50, 100)).\n",
        "\n",
        "6. **After making changes to an Image object, how could you save it as an image file?**\n",
        "   - Use the save() method on the Image object, passing the filename as an argument.\n",
        "\n",
        "7. **What module contains Pillow’s shape-drawing code?**\n",
        "   - The ImageDraw module contains Pillow’s shape-drawing code.\n",
        "\n",
        "8. **Image objects do not have drawing methods. What kind of object does? How do you get this kind of object?**\n",
        "   - An ImageDraw object has drawing methods. You get this object by passing an Image object to the ImageDraw.Draw() function."
      ],
      "metadata": {
        "id": "dHhfdItUNykm"
      }
    }
  ]
}