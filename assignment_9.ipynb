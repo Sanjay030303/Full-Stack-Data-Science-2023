{
  "nbformat": 4,
  "nbformat_minor": 0,
  "metadata": {
    "colab": {
      "provenance": [],
      "authorship_tag": "ABX9TyOCAA0OYbqVlilABYQbtV1u",
      "include_colab_link": true
    },
    "kernelspec": {
      "name": "python3",
      "display_name": "Python 3"
    },
    "language_info": {
      "name": "python"
    }
  },
  "cells": [
    {
      "cell_type": "markdown",
      "metadata": {
        "id": "view-in-github",
        "colab_type": "text"
      },
      "source": [
        "<a href=\"https://colab.research.google.com/github/Sanjay030303/Full-Stack-Data-Science-2023/blob/main/assignment_9.ipynb\" target=\"_parent\"><img src=\"https://colab.research.google.com/assets/colab-badge.svg\" alt=\"Open In Colab\"/></a>"
      ]
    },
    {
      "cell_type": "code",
      "execution_count": null,
      "metadata": {
        "id": "QVzskiqTZkiD"
      },
      "outputs": [],
      "source": []
    },
    {
      "cell_type": "markdown",
      "source": [
        "1. To what does a relative path refer?\n",
        "   A relative path refers to a file or directory location that is relative to the current working directory, not starting from the root directory.\n",
        "\n",
        "2. What does an absolute path start with your operating system?\n",
        "   An absolute path starts from the root directory and provides the complete path to a file or directory, starting with a slash (/) on Unix-like systems or a drive letter (like C:) on Windows.\n",
        "\n",
        "3. What do the functions os.getcwd() and os.chdir() do?\n",
        "   The os.getcwd() function returns the current working directory, while os.chdir() changes the current working directory to a specified path.\n",
        "\n",
        "4. What are the . and .. folders?\n",
        "   The . folder refers to the current directory, and the .. folder refers to the parent directory.\n",
        "\n",
        "5. In C:\\bacon\\eggs\\spam.txt, which part is the dir name, and which part is the base name?\n",
        "   In C:\\bacon\\eggs\\spam.txt, C:\\bacon\\eggs is the directory name, and spam.txt is the base name.\n",
        "\n",
        "6. What are the three “mode” arguments that can be passed to the open() function?\n",
        "   The three mode arguments that can be passed to the open() function are 'r' for reading, 'w' for writing, and 'a' for appending.\n",
        "\n",
        "7. What happens if an existing file is opened in write mode?\n",
        "   If an existing file is opened in write mode, the file's content is erased, and the file is treated as a new empty file.\n",
        "\n",
        "8. How do you tell the difference between read() and readlines()?\n",
        "   The read() function reads the entire content of a file as a single string, while readlines() reads the file and returns a list of strings, each representing a line in the file.\n",
        "\n",
        "9. What data structure does a shelf value resemble?\n",
        "   A shelf value resembles a dictionary, where you can store and retrieve data using key-value pairs."
      ],
      "metadata": {
        "id": "BIAeKsqza5KZ"
      }
    }
  ]
}