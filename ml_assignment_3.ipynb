{
  "nbformat": 4,
  "nbformat_minor": 0,
  "metadata": {
    "colab": {
      "provenance": [],
      "authorship_tag": "ABX9TyMEXOmEMzBakwYAuiLxWXoh",
      "include_colab_link": true
    },
    "kernelspec": {
      "name": "python3",
      "display_name": "Python 3"
    },
    "language_info": {
      "name": "python"
    }
  },
  "cells": [
    {
      "cell_type": "markdown",
      "metadata": {
        "id": "view-in-github",
        "colab_type": "text"
      },
      "source": [
        "<a href=\"https://colab.research.google.com/github/Sanjay030303/Full-Stack-Data-Science-2023/blob/main/ml_assignment_3.ipynb\" target=\"_parent\"><img src=\"https://colab.research.google.com/assets/colab-badge.svg\" alt=\"Open In Colab\"/></a>"
      ]
    },
    {
      "cell_type": "code",
      "execution_count": null,
      "metadata": {
        "id": "oEbbcABmu5Cw"
      },
      "outputs": [],
      "source": []
    },
    {
      "cell_type": "markdown",
      "source": [
        "### 1. What is the concept of an abstract superclass?\n",
        "\n",
        "An abstract superclass is a class that cannot be instantiated on its own and is meant to be a blueprint for other subclasses. It can contain abstract methods, which are methods declared but not implemented. Subclasses of the abstract superclass must provide implementations for these abstract methods. Abstract superclasses are useful for defining a common interface that all subclasses must follow.\n",
        "\n",
        "### 2. What happens when a class statement's top level contains a basic assignment statement?\n",
        "\n",
        "When a class statement's top level contains a basic assignment statement, it creates a class attribute. This attribute is shared by all instances of the class, rather than being specific to any one instance. For example:\n",
        "\n",
        "```python\n",
        "class MyClass:\n",
        "    class_attribute = 42\n",
        "```\n",
        "\n",
        "In this case, `class_attribute` is a class attribute, and it can be accessed as `MyClass.class_attribute` or via any instance of `MyClass`.\n",
        "\n",
        "### 3. Why does a class need to manually call a superclass's `__init__` method?\n",
        "\n",
        "A class needs to manually call a superclass's `__init__` method to ensure that the initialization logic defined in the superclass is executed. This is because Python does not automatically call the `__init__` method of the superclass. Manually calling it ensures that the superclass is properly initialized, and any attributes or setup defined in the superclass's `__init__` method are correctly applied.\n",
        "\n",
        "```python\n",
        "class SuperClass:\n",
        "    def __init__(self):\n",
        "        print(\"SuperClass initialized\")\n",
        "\n",
        "class SubClass(SuperClass):\n",
        "    def __init__(self):\n",
        "        super().__init__()  # Manually call the superclass's __init__ method\n",
        "        print(\"SubClass initialized\")\n",
        "```\n",
        "\n",
        "### 4. How can you augment, instead of completely replacing, an inherited method?\n",
        "\n",
        "To augment an inherited method instead of completely replacing it, you can call the method from the superclass within the overriding method in the subclass. This allows you to add additional functionality while still retaining the behavior of the inherited method.\n",
        "\n",
        "```python\n",
        "class SuperClass:\n",
        "    def method(self):\n",
        "        print(\"SuperClass method\")\n",
        "\n",
        "class SubClass(SuperClass):\n",
        "    def method(self):\n",
        "        super().method()  # Call the superclass's method\n",
        "        print(\"SubClass method\")\n",
        "```\n",
        "\n",
        "In this example, calling `SubClass().method()` will print both \"SuperClass method\" and \"SubClass method\".\n",
        "\n",
        "### 5. How is the local scope of a class different from that of a function?\n",
        "\n",
        "The local scope of a class is different from that of a function in that class attributes and methods are defined within the class scope and are accessible through instances of the class, as well as through the class itself. In contrast, variables defined in a function are local to that function and are not accessible outside of it.\n",
        "\n",
        "- **Class Scope**: Class attributes and methods are accessible via `self` in instance methods, or via the class name.\n",
        "- **Function Scope**: Variables defined within a function are only accessible within that function unless declared global or nonlocal.\n",
        "\n",
        "```python\n",
        "class MyClass:\n",
        "    class_attr = \"I am a class attribute\"\n",
        "\n",
        "    def method(self):\n",
        "        self.instance_attr = \"I am an instance attribute\"\n",
        "\n",
        "def my_function():\n",
        "    func_var = \"I am a function variable\"\n",
        "```\n",
        "\n",
        "In this example, `class_attr` can be accessed as `MyClass.class_attr`, and `instance_attr` can be accessed as an attribute of an instance of `MyClass`. However, `func_var` is only accessible within `my_function`."
      ],
      "metadata": {
        "id": "nmUV5WIcu50E"
      }
    }
  ]
}