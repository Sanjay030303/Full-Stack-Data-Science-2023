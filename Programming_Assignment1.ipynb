{
  "nbformat": 4,
  "nbformat_minor": 0,
  "metadata": {
    "colab": {
      "provenance": [],
      "authorship_tag": "ABX9TyM2OCpw1O12Rn4veH+snAT4",
      "include_colab_link": true
    },
    "kernelspec": {
      "name": "python3",
      "display_name": "Python 3"
    },
    "language_info": {
      "name": "python"
    }
  },
  "cells": [
    {
      "cell_type": "markdown",
      "metadata": {
        "id": "view-in-github",
        "colab_type": "text"
      },
      "source": [
        "<a href=\"https://colab.research.google.com/github/Sanjay030303/Full-Stack-Data-Science-2023/blob/main/Programming_Assignment1.ipynb\" target=\"_parent\"><img src=\"https://colab.research.google.com/assets/colab-badge.svg\" alt=\"Open In Colab\"/></a>"
      ]
    },
    {
      "cell_type": "code",
      "execution_count": null,
      "metadata": {
        "id": "qeBcYeX4EtCz"
      },
      "outputs": [],
      "source": [
        "# 1. Write a Python program to print &quot;Hello Python&quot;?\n",
        "# 2. Write a Python program to do arithmetical operations addition and division.?\n",
        "# 3. Write a Python program to find the area of a triangle?\n",
        "# 4. Write a Python program to swap two variables?\n",
        "# 5. Write a Python program to generate a random number?"
      ]
    },
    {
      "cell_type": "markdown",
      "source": [
        "1. Write a Python program to print &quot;Hello Python&quot;?\n",
        "\n"
      ],
      "metadata": {
        "id": "yPiYXMQSE-Nj"
      }
    },
    {
      "cell_type": "code",
      "source": [
        "print(\"Hello Python\")"
      ],
      "metadata": {
        "colab": {
          "base_uri": "https://localhost:8080/"
        },
        "id": "WTZl9BDmFA5S",
        "outputId": "1d6cdd91-f5b8-4d2b-879b-c8515c6645c2"
      },
      "execution_count": 1,
      "outputs": [
        {
          "output_type": "stream",
          "name": "stdout",
          "text": [
            "Hello Python\n"
          ]
        }
      ]
    },
    {
      "cell_type": "markdown",
      "source": [
        "2. Write a Python program to do arithmetical operations addition and division.?\n",
        "\n"
      ],
      "metadata": {
        "id": "019c31w8GAxm"
      }
    },
    {
      "cell_type": "code",
      "source": [
        "a = float(input())\n",
        "b = float(input())\n",
        "print(a+b,a/b)"
      ],
      "metadata": {
        "colab": {
          "base_uri": "https://localhost:8080/"
        },
        "id": "qJH2wkwqFDd2",
        "outputId": "7fa17a64-9e3a-4acf-cdd3-d0aefc34d731"
      },
      "execution_count": 2,
      "outputs": [
        {
          "output_type": "stream",
          "name": "stdout",
          "text": [
            "5\n",
            "10\n",
            "15.0 0.5\n"
          ]
        }
      ]
    },
    {
      "cell_type": "markdown",
      "source": [
        "3. Write a Python program to find the area of a triangle?\n"
      ],
      "metadata": {
        "id": "ipOSclM5GCda"
      }
    },
    {
      "cell_type": "code",
      "source": [
        "l = float(input(\"Enter the length\"))\n",
        "b = float(input(\"Enter the breath\"))\n",
        "print((1/2)*b*l)"
      ],
      "metadata": {
        "colab": {
          "base_uri": "https://localhost:8080/"
        },
        "id": "iaD0PTlOFMrC",
        "outputId": "8c392b02-cfe8-4bfd-e436-d96a4d9ab205"
      },
      "execution_count": 3,
      "outputs": [
        {
          "output_type": "stream",
          "name": "stdout",
          "text": [
            "Enter the length2\n",
            "Enter the breath3\n",
            "3.0\n"
          ]
        }
      ]
    },
    {
      "cell_type": "markdown",
      "source": [
        "4. Write a Python program to swap two variables?\n"
      ],
      "metadata": {
        "id": "JH-a1LGaGH4-"
      }
    },
    {
      "cell_type": "code",
      "source": [
        "a = 10\n",
        "b = 5\n",
        "a,b = b,a\n",
        "print(a,b)"
      ],
      "metadata": {
        "colab": {
          "base_uri": "https://localhost:8080/"
        },
        "id": "YM-qJFJGFjgf",
        "outputId": "d73a58d3-7558-4b3f-8baa-d716ea3c42f8"
      },
      "execution_count": 4,
      "outputs": [
        {
          "output_type": "stream",
          "name": "stdout",
          "text": [
            "5 10\n"
          ]
        }
      ]
    },
    {
      "cell_type": "markdown",
      "source": [
        "5. Write a Python program to generate a random number?"
      ],
      "metadata": {
        "id": "wKCcFWvqGKGi"
      }
    },
    {
      "cell_type": "code",
      "source": [
        "import random\n",
        "print(random.randint(0,9))"
      ],
      "metadata": {
        "colab": {
          "base_uri": "https://localhost:8080/"
        },
        "id": "D3YD85xjFruF",
        "outputId": "4a6bb82d-dd3e-4b7f-8bb1-2b4c1c643a9b"
      },
      "execution_count": 6,
      "outputs": [
        {
          "output_type": "stream",
          "name": "stdout",
          "text": [
            "9\n"
          ]
        }
      ]
    },
    {
      "cell_type": "code",
      "source": [],
      "metadata": {
        "id": "6cyhpAuWFxDL"
      },
      "execution_count": null,
      "outputs": []
    }
  ]
}