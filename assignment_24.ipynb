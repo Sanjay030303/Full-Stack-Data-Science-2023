{
  "nbformat": 4,
  "nbformat_minor": 0,
  "metadata": {
    "colab": {
      "provenance": [],
      "authorship_tag": "ABX9TyOr7DlSgaDvU4vjiqAOh3gF",
      "include_colab_link": true
    },
    "kernelspec": {
      "name": "python3",
      "display_name": "Python 3"
    },
    "language_info": {
      "name": "python"
    }
  },
  "cells": [
    {
      "cell_type": "markdown",
      "metadata": {
        "id": "view-in-github",
        "colab_type": "text"
      },
      "source": [
        "<a href=\"https://colab.research.google.com/github/Sanjay030303/Full-Stack-Data-Science-2023/blob/main/assignment_24.ipynb\" target=\"_parent\"><img src=\"https://colab.research.google.com/assets/colab-badge.svg\" alt=\"Open In Colab\"/></a>"
      ]
    },
    {
      "cell_type": "code",
      "execution_count": null,
      "metadata": {
        "id": "NLJolXkONUUX"
      },
      "outputs": [],
      "source": []
    },
    {
      "cell_type": "markdown",
      "source": [
        "\n",
        "\n",
        "1. **What is the relationship between def statements and lambda expressions?**\n",
        "   - **def statements** are used to define named functions in Python. They are more versatile and can contain multiple statements and have a docstring.\n",
        "   - **lambda expressions** are anonymous functions defined using the `lambda` keyword. They are restricted to a single expression and are often used where a small anonymous function is needed, typically as an argument to higher-order functions.\n",
        "\n",
        "2. **What is the benefit of lambda?**\n",
        "   - The main benefit of lambda expressions is conciseness and convenience. They allow you to create small, throwaway functions without the need for a full function definition. This can make code more readable when the function logic is straightforward and does not require extensive documentation.\n",
        "\n",
        "3. **Compare and contrast map, filter, and reduce.**\n",
        "   - **map(function, iterable)** applies the `function` to each item in the `iterable` and returns an iterator of the results.\n",
        "   - **filter(function, iterable)** returns an iterator yielding those items of the `iterable` for which `function(item)` is true.\n",
        "   - **reduce(function, iterable)** continually applies the `function` to pairs of elements from the `iterable`, reducing them to a single value.\n",
        "\n",
        "4. **What are function annotations, and how are they used?**\n",
        "   - **Function annotations** are arbitrary metadata attached to function arguments and return values using colons and expressions following the argument list and return arrow `->`. They are optional and provide type hints or other information about function parameters and return types. They are accessed using `__annotations__` attribute of the function object.\n",
        "\n",
        "5. **What are recursive functions, and how are they used?**\n",
        "   - **Recursive functions** are functions that call themselves directly or indirectly in order to solve a problem. They are used to solve problems that can be broken down into smaller, simpler subproblems that resemble the original problem. Recursive functions must have a base case to terminate the recursion.\n",
        "\n",
        "6. **What are some general design guidelines for coding functions?**\n",
        "   - Functions should be small and focused, with a single responsibility.\n",
        "   - Use meaningful names for functions and parameters.\n",
        "   - Document functions using docstrings to describe purpose, parameters, and return values.\n",
        "   - Avoid side effects and modify state only when necessary.\n",
        "   - Use function arguments to pass data and return values to communicate with callers.\n",
        "\n",
        "7. **Name three or more ways that functions can communicate results to a caller.**\n",
        "   - **Return Statements:** Functions can use `return` statements to send back a value or multiple values to the caller.\n",
        "   - **Global Variables:** Functions can modify global variables to communicate results.\n",
        "   - **Side Effects:** Functions can modify mutable objects (like lists or dictionaries) passed as arguments, which persist after the function ends.\n",
        "   - **Exception Handling:** Functions can raise exceptions to communicate errors or special conditions back to the caller.\n",
        "   - **Output Parameters:** Functions can modify mutable parameters passed by reference to communicate results back to the caller."
      ],
      "metadata": {
        "id": "dHhfdItUNykm"
      }
    }
  ]
}